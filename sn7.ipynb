{
 "cells": [
  {
   "cell_type": "code",
   "execution_count": 102,
   "metadata": {},
   "outputs": [
    {
     "name": "stdout",
     "output_type": "stream",
     "text": [
      "The autoreload extension is already loaded. To reload it, use:\n",
      "  %reload_ext autoreload\n"
     ]
    }
   ],
   "source": [
    "%load_ext autoreload\n",
    "%autoreload 2\n",
    "from building_dection import *\n",
    "\n",
    "import os\n",
    "import rasterio as rio\n",
    "import numpy as np\n",
    "import json\n",
    "import pyproj\n",
    "from osgeo import gdal\n",
    "import subprocess\n"
   ]
  },
  {
   "cell_type": "code",
   "execution_count": 121,
   "metadata": {},
   "outputs": [],
   "source": [
    "labels = \"/scratch/toml/sn7/qgis/labels2.geojson\"\n",
    "\n",
    "vector_ds = gdal.OpenEx(labels, gdal.OF_VECTOR)\n",
    "vector_extent = vector_ds.GetLayer().GetExtent()\n",
    "\n",
    "from sentinelsat import SentinelAPI, read_geojson, geojson_to_wkt\n",
    "from datetime import date\n",
    "\n",
    "user, password = get_credentials()\n",
    "api = SentinelAPI(user, password, \"https://scihub.copernicus.eu/dhus\")\n",
    "\n",
    "footprint = f\"POLYGON(({vector_extent[0]} {vector_extent[2]}, {vector_extent[1]} {vector_extent[2]}, {vector_extent[1]} {vector_extent[3]}, {vector_extent[0]} {vector_extent[3]}, {vector_extent[0]} {vector_extent[2]}))\"\n",
    "\n",
    "products = api.query(\n",
    "    footprint,\n",
    "    date=(\"20230801\", \"20231031\"),\n",
    "    platformname=\"Sentinel-2\",\n",
    "    processinglevel=\"Level-1C\",\n",
    "    cloudcoverpercentage=(0, 30),\n",
    ")\n",
    "\n",
    "products_df = api.to_dataframe(products)"
   ]
  },
  {
   "cell_type": "code",
   "execution_count": 122,
   "metadata": {},
   "outputs": [
    {
     "name": "stdout",
     "output_type": "stream",
     "text": [
      "b09f1a11-bfa5-4993-98aa-125d9ea9da10: True\n",
      "f10ff1b4-9879-436a-aae9-1d957074f6dc: True\n",
      "82d5e839-9c67-486c-af0a-a4c23abfcf13: True\n",
      "94867d2d-9c27-4059-b471-a5aefb095ef6: True\n",
      "ba1cf43f-172d-44a6-a862-30dfbe18ea1d: True\n",
      "727592ed-a56c-4e63-8466-a0dabac74a2f: True\n",
      "371fba26-aaa8-4048-948c-e3c85aa36fd8: False\n",
      "0929c05e-72ab-42a7-8bc7-3eef96e4239f: False\n",
      "94b32aca-6782-4047-9d6f-b80846f1369f: False\n",
      "a3ac6b68-7c15-4375-adb4-0acf58979496: False\n",
      "fdb3b9ce-73f6-488c-9ed0-d41a48365be5: False\n",
      "30227edb-1ca1-4b25-89b5-6ed049e7c061: False\n",
      "a7d98e81-1a26-41da-a1ab-f785267bd26d: False\n",
      "85177817-1565-4340-8ae4-5467e960d4e2: False\n"
     ]
    }
   ],
   "source": [
    "for prod in products:\n",
    "    is_online = api.is_online(prod)\n",
    "    print(f\"{prod}: {is_online}\")"
   ]
  },
  {
   "cell_type": "code",
   "execution_count": 125,
   "metadata": {},
   "outputs": [
    {
     "name": "stderr",
     "output_type": "stream",
     "text": [
      "Downloading S2B_MSIL1C_20231011T185319_N0509_R113_T10SFH_20231011T204156.zip: 100%|██████████| 843M/843M [00:20<00:00, 41.1MB/s] \n",
      "                                                                    \r"
     ]
    },
    {
     "data": {
      "text/plain": [
       "{'id': 'b09f1a11-bfa5-4993-98aa-125d9ea9da10',\n",
       " 'title': 'S2B_MSIL1C_20231011T185319_N0509_R113_T10SFH_20231011T204156',\n",
       " 'size': 843428749,\n",
       " 'md5': 'e2249770092018e948b2eb1575518c3a',\n",
       " 'date': datetime.datetime(2023, 10, 11, 18, 53, 19, 24000),\n",
       " 'footprint': 'POLYGON((-121.8477 38.84331460585068,-120.58327 38.82399234658653,-120.615906 37.83530211029287,-121.86328 37.853955038178526,-121.8477 38.84331460585068))',\n",
       " 'url': \"https://scihub.copernicus.eu/dhus/odata/v1/Products('b09f1a11-bfa5-4993-98aa-125d9ea9da10')/$value\",\n",
       " 'Online': True,\n",
       " 'Creation Date': datetime.datetime(2023, 10, 11, 22, 22, 0, 185000),\n",
       " 'Ingestion Date': datetime.datetime(2023, 10, 11, 22, 20, 57, 10000),\n",
       " 'manifest_name': 'manifest.safe',\n",
       " 'product_root_dir': 'S2B_MSIL1C_20231011T185319_N0509_R113_T10SFH_20231011T204156.SAFE',\n",
       " 'quicklook_url': \"https://scihub.copernicus.eu/dhus/odata/v1/Products('b09f1a11-bfa5-4993-98aa-125d9ea9da10')/Products('Quicklook')/$value\",\n",
       " 'path': '/scratch/toml/sn7/sentinel2/S2B_MSIL1C_20231011T185319_N0509_R113_T10SFH_20231011T204156.zip',\n",
       " 'downloaded_bytes': 843428749}"
      ]
     },
     "execution_count": 125,
     "metadata": {},
     "output_type": "execute_result"
    }
   ],
   "source": [
    "api.download(\"b09f1a11-bfa5-4993-98aa-125d9ea9da10\", directory_path=\"/scratch/toml/sn7/sentinel2\")"
   ]
  },
  {
   "cell_type": "code",
   "execution_count": null,
   "metadata": {},
   "outputs": [],
   "source": [
    "# Define the EPSG codes for the source and target coordinate systems\n",
    "src_crs = 'EPSG:4326'\n",
    "tgt_crs = 'EPSG:32610'  # UTM zone 10N in WGS84\n",
    "\n",
    "labels = '/scratch/toml/sn7/qgis/labels2.geojson'\n",
    "reproj_labels = '/scratch/toml/sn7/qgis/labels2_reproj.geojson'\n",
    "raster_labels = '/scratch/toml/sn7/qgis/labels2.tif'\n",
    "extent = [600000.0, 4190220.0, 709800.0, 4300020.0]\n",
    "\n",
    "# Reproject the GeoJSON to the target coordinate system\n",
    "reproject_geojson(labels, src_crs, tgt_crs, out_fn=reproj_labels)\n",
    "rasterize_labels(reproj_labels, raster_labels, extent)\n"
   ]
  },
  {
   "cell_type": "code",
   "execution_count": 101,
   "metadata": {},
   "outputs": [
    {
     "name": "stdout",
     "output_type": "stream",
     "text": [
      "GEOGCS[\"WGS 84\",\n",
      "    DATUM[\"WGS_1984\",\n",
      "        SPHEROID[\"WGS 84\",6378137,298.257223563,\n",
      "            AUTHORITY[\"EPSG\",\"7030\"]],\n",
      "        AUTHORITY[\"EPSG\",\"6326\"]],\n",
      "    PRIMEM[\"Greenwich\",0,\n",
      "        AUTHORITY[\"EPSG\",\"8901\"]],\n",
      "    UNIT[\"degree\",0.0174532925199433,\n",
      "        AUTHORITY[\"EPSG\",\"9122\"]],\n",
      "    AXIS[\"Latitude\",NORTH],\n",
      "    AXIS[\"Longitude\",EAST],\n",
      "    AUTHORITY[\"EPSG\",\"4326\"]]\n",
      "(-121.68466515096087, -121.64058492652846, 37.9615752659464, 37.99617689154867)\n",
      "PROJCS[\"WGS 84 / UTM zone 10N\",GEOGCS[\"WGS 84\",DATUM[\"WGS_1984\",SPHEROID[\"WGS 84\",6378137,298.257223563,AUTHORITY[\"EPSG\",\"7030\"]],AUTHORITY[\"EPSG\",\"6326\"]],PRIMEM[\"Greenwich\",0,AUTHORITY[\"EPSG\",\"8901\"]],UNIT[\"degree\",0.0174532925199433,AUTHORITY[\"EPSG\",\"9122\"]],AUTHORITY[\"EPSG\",\"4326\"]],PROJECTION[\"Transverse_Mercator\"],PARAMETER[\"latitude_of_origin\",0],PARAMETER[\"central_meridian\",-123],PARAMETER[\"scale_factor\",0.9996],PARAMETER[\"false_easting\",500000],PARAMETER[\"false_northing\",0],UNIT[\"metre\",1,AUTHORITY[\"EPSG\",\"9001\"]],AXIS[\"Easting\",EAST],AXIS[\"Northing\",NORTH],AUTHORITY[\"EPSG\",\"32610\"]]\n",
      "(615491.3614232598, 4206207.009331643, 619418.013320454, 4202423.263757238)\n",
      "GEOGCS[\"WGS 84\",\n",
      "    DATUM[\"WGS_1984\",\n",
      "        SPHEROID[\"WGS 84\",6378137,298.257223563,\n",
      "            AUTHORITY[\"EPSG\",\"7030\"]],\n",
      "        AUTHORITY[\"EPSG\",\"6326\"]],\n",
      "    PRIMEM[\"Greenwich\",0,\n",
      "        AUTHORITY[\"EPSG\",\"8901\"]],\n",
      "    UNIT[\"degree\",0.0174532925199433,\n",
      "        AUTHORITY[\"EPSG\",\"9122\"]],\n",
      "    AXIS[\"Latitude\",NORTH],\n",
      "    AXIS[\"Longitude\",EAST],\n",
      "    AUTHORITY[\"EPSG\",\"4326\"]]\n",
      "(-121.68466515096087, -121.64058492652846, 37.9615752659464, 37.99617689154867)\n",
      "PROJCS[\"WGS 84 / UTM zone 10N\",GEOGCS[\"WGS 84\",DATUM[\"WGS_1984\",SPHEROID[\"WGS 84\",6378137,298.257223563,AUTHORITY[\"EPSG\",\"7030\"]],AUTHORITY[\"EPSG\",\"6326\"]],PRIMEM[\"Greenwich\",0,AUTHORITY[\"EPSG\",\"8901\"]],UNIT[\"degree\",0.0174532925199433,AUTHORITY[\"EPSG\",\"9122\"]],AUTHORITY[\"EPSG\",\"4326\"]],PROJECTION[\"Transverse_Mercator\"],PARAMETER[\"latitude_of_origin\",0],PARAMETER[\"central_meridian\",-123],PARAMETER[\"scale_factor\",0.9996],PARAMETER[\"false_easting\",500000],PARAMETER[\"false_northing\",0],UNIT[\"metre\",1,AUTHORITY[\"EPSG\",\"9001\"]],AXIS[\"Easting\",EAST],AXIS[\"Northing\",NORTH],AUTHORITY[\"EPSG\",\"32610\"]]\n",
      "(615491.3614232598, 4206207.009331643, 619418.013320454, 4202423.263757238)\n"
     ]
    }
   ],
   "source": [
    "\n",
    "l1c = '/scratch/toml/sn7/qgis/l1c_set1 (copy).tif'\n",
    "l1c_crop = '/scratch/toml/sn7/qgis/l1c_set1_crop.tif'\n",
    "raster_labels = '/scratch/toml/sn7/qgis/labels2.tif'\n",
    "raster_labels_crop = '/scratch/toml/sn7/qgis/labels2_crop.tif'\n",
    "crop_to_extent(labels, l1c, l1c_crop)\n",
    "crop_to_extent(labels, raster_labels, raster_labels_crop)\n"
   ]
  },
  {
   "cell_type": "code",
   "execution_count": null,
   "metadata": {},
   "outputs": [],
   "source": []
  }
 ],
 "metadata": {
  "kernelspec": {
   "display_name": "venv",
   "language": "python",
   "name": "python3"
  },
  "language_info": {
   "codemirror_mode": {
    "name": "ipython",
    "version": 3
   },
   "file_extension": ".py",
   "mimetype": "text/x-python",
   "name": "python",
   "nbconvert_exporter": "python",
   "pygments_lexer": "ipython3",
   "version": "3.10.12"
  }
 },
 "nbformat": 4,
 "nbformat_minor": 2
}
