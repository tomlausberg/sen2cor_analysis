{
 "cells": [
  {
   "cell_type": "code",
   "execution_count": 16,
   "metadata": {},
   "outputs": [
    {
     "name": "stdout",
     "output_type": "stream",
     "text": [
      "The autoreload extension is already loaded. To reload it, use:\n",
      "  %reload_ext autoreload\n"
     ]
    }
   ],
   "source": [
    "%load_ext autoreload\n",
    "%autoreload 2\n",
    "\n",
    "import os\n",
    "import json\n",
    "\n",
    "import rasterio as rio\n",
    "import numpy as np\n",
    "\n",
    "\n",
    "import building_dection as bd"
   ]
  },
  {
   "cell_type": "markdown",
   "metadata": {},
   "source": [
    "### Import labels\n",
    "- Find list of labels\n",
    "- Find UTM Tile for each location\n",
    "- convert to target CRS (from EPSG:4326 to EPSG:32XXX)\n",
    "- rasterize labels\n",
    "- save labels as geotiff\n",
    "- get extent of labels"
   ]
  },
  {
   "cell_type": "code",
   "execution_count": 17,
   "metadata": {},
   "outputs": [],
   "source": [
    "sn7_path = \"/scratch/toml/sn7\"\n",
    "train_path = os.path.join(sn7_path, \"SN7_buildings_train/train\")\n"
   ]
  },
  {
   "cell_type": "code",
   "execution_count": 18,
   "metadata": {},
   "outputs": [],
   "source": [
    "max_locations = 10\n",
    "\n",
    "labels = bd.get_labels(train_path)[:max_locations]"
   ]
  },
  {
   "cell_type": "code",
   "execution_count": 19,
   "metadata": {},
   "outputs": [
    {
     "data": {
      "text/plain": [
       "['/scratch/toml/sn7/SN7_buildings_train/train/L15-0331E-1257N_1327_3160_13/labels/global_monthly_2020_01_mosaic_L15-0331E-1257N_1327_3160_13_Buildings.geojson',\n",
       " '/scratch/toml/sn7/SN7_buildings_train/train/L15-0357E-1223N_1429_3296_13/labels/global_monthly_2020_01_mosaic_L15-0357E-1223N_1429_3296_13_Buildings.geojson',\n",
       " '/scratch/toml/sn7/SN7_buildings_train/train/L15-0358E-1220N_1433_3310_13/labels/global_monthly_2020_01_mosaic_L15-0358E-1220N_1433_3310_13_Buildings.geojson',\n",
       " '/scratch/toml/sn7/SN7_buildings_train/train/L15-0361E-1300N_1446_2989_13/labels/global_monthly_2020_01_mosaic_L15-0361E-1300N_1446_2989_13_Buildings.geojson',\n",
       " '/scratch/toml/sn7/SN7_buildings_train/train/L15-0368E-1245N_1474_3210_13/labels/global_monthly_2020_01_mosaic_L15-0368E-1245N_1474_3210_13_Buildings.geojson',\n",
       " '/scratch/toml/sn7/SN7_buildings_train/train/L15-0434E-1218N_1736_3318_13/labels/global_monthly_2020_01_mosaic_L15-0434E-1218N_1736_3318_13_Buildings.geojson',\n",
       " '/scratch/toml/sn7/SN7_buildings_train/train/L15-0487E-1246N_1950_3207_13/labels/global_monthly_2020_01_mosaic_L15-0487E-1246N_1950_3207_13_Buildings.geojson',\n",
       " '/scratch/toml/sn7/SN7_buildings_train/train/L15-0566E-1185N_2265_3451_13/labels/global_monthly_2020_01_mosaic_L15-0566E-1185N_2265_3451_13_Buildings.geojson',\n",
       " '/scratch/toml/sn7/SN7_buildings_train/train/L15-0571E-1075N_2287_3888_13/labels/global_monthly_2020_01_mosaic_L15-0571E-1075N_2287_3888_13_Buildings.geojson',\n",
       " '/scratch/toml/sn7/SN7_buildings_train/train/L15-0586E-1127N_2345_3680_13/labels/global_monthly_2020_01_mosaic_L15-0586E-1127N_2345_3680_13_Buildings.geojson']"
      ]
     },
     "execution_count": 19,
     "metadata": {},
     "output_type": "execute_result"
    }
   ],
   "source": [
    "labels"
   ]
  },
  {
   "cell_type": "code",
   "execution_count": 20,
   "metadata": {},
   "outputs": [
    {
     "name": "stdout",
     "output_type": "stream",
     "text": [
      "CRS: EPSG:4326\n",
      "UTM CRS: EPSG:32610\n"
     ]
    }
   ],
   "source": [
    "geojson_file = labels[0]\n",
    "# import a geojson file with geopandas\n",
    "import geopandas as gpd\n",
    "gdf = gpd.read_file(geojson_file)\n",
    "\n",
    "print(f\"CRS: {gdf.crs}\")\n",
    "print(f\"UTM CRS: {gdf.estimate_utm_crs()}\")\n",
    "new_gdf = gdf.to_crs(gdf.estimate_utm_crs())"
   ]
  },
  {
   "cell_type": "code",
   "execution_count": 21,
   "metadata": {},
   "outputs": [],
   "source": [
    "bd.convert_geojson_to_utm_raster(labels[1], \"outputs/label1.tif\")"
   ]
  },
  {
   "cell_type": "code",
   "execution_count": 22,
   "metadata": {},
   "outputs": [
    {
     "data": {
      "text/plain": [
       "'/scratch/toml/sn7/SN7_buildings_train/train/L15-0357E-1223N_1429_3296_13/labels/global_monthly_2020_01_mosaic_L15-0357E-1223N_1429_3296_13_Buildings.geojson'"
      ]
     },
     "execution_count": 22,
     "metadata": {},
     "output_type": "execute_result"
    }
   ],
   "source": [
    "labels[1]"
   ]
  },
  {
   "cell_type": "code",
   "execution_count": 32,
   "metadata": {},
   "outputs": [
    {
     "name": "stdout",
     "output_type": "stream",
     "text": [
      "| 10.00, 0.00, 481127.00|\n",
      "| 0.00,-10.00, 3666556.00|\n",
      "| 0.00, 0.00, 1.00|\n",
      "EPSG:32611\n",
      "{'driver': 'GTiff', 'dtype': 'uint8', 'nodata': None, 'width': 412, 'height': 408, 'count': 1, 'crs': CRS.from_epsg(32611), 'transform': Affine(10.0, 0.0, 481127.0,\n",
      "       0.0, -10.0, 3666556.0)}\n"
     ]
    }
   ],
   "source": [
    "# get extent of the raster\n",
    "with rio.open(\"outputs/label1.tif\") as src:\n",
    "    # print(src.bounds)\n",
    "    print(src.transform)\n",
    "    print(src.crs)\n",
    "    print(src.meta)\n",
    "    w = src.meta[\"width\"]\n",
    "    h = src.meta[\"height\"]"
   ]
  },
  {
   "cell_type": "code",
   "execution_count": 25,
   "metadata": {},
   "outputs": [
    {
     "data": {
      "text/plain": [
       "Affine(10.0, 0.0, 481127.0,\n",
       "       0.0, -10.0, 3666556.0)"
      ]
     },
     "execution_count": 25,
     "metadata": {},
     "output_type": "execute_result"
    }
   ],
   "source": [
    "src.transform"
   ]
  },
  {
   "cell_type": "code",
   "execution_count": 35,
   "metadata": {},
   "outputs": [
    {
     "data": {
      "text/plain": [
       "408"
      ]
     },
     "execution_count": 35,
     "metadata": {},
     "output_type": "execute_result"
    }
   ],
   "source": [
    "int(h/6)*6"
   ]
  },
  {
   "cell_type": "code",
   "execution_count": null,
   "metadata": {},
   "outputs": [],
   "source": []
  }
 ],
 "metadata": {
  "kernelspec": {
   "display_name": "venv",
   "language": "python",
   "name": "python3"
  },
  "language_info": {
   "codemirror_mode": {
    "name": "ipython",
    "version": 3
   },
   "file_extension": ".py",
   "mimetype": "text/x-python",
   "name": "python",
   "nbconvert_exporter": "python",
   "pygments_lexer": "ipython3",
   "version": "3.10.12"
  }
 },
 "nbformat": 4,
 "nbformat_minor": 2
}
