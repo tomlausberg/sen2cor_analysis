{
 "cells": [
  {
   "cell_type": "markdown",
   "metadata": {},
   "source": [
    "### Get access token\n",
    "[Documentation](https://documentation.dataspace.copernicus.eu/APIs/Token.html)\n",
    "\n",
    "### OAuth Setup\n",
    "[Docs](https://documentation.dataspace.copernicus.eu/APIs/SentinelHub/Overview/Authentication.html#python), [Credentials](https://shapps.dataspace.copernicus.eu/dashboard/#/account/settings)\n"
   ]
  },
  {
   "cell_type": "code",
   "execution_count": 1,
   "metadata": {},
   "outputs": [
    {
     "name": "stderr",
     "output_type": "stream",
     "text": [
      "c:\\Users\\tlaus\\Documents\\local\\semester_thesis\\sen2cor_analysis\\venv\\Lib\\site-packages\\tqdm\\auto.py:21: TqdmWarning: IProgress not found. Please update jupyter and ipywidgets. See https://ipywidgets.readthedocs.io/en/stable/user_install.html\n",
      "  from .autonotebook import tqdm as notebook_tqdm\n"
     ]
    }
   ],
   "source": [
    "%load_ext autoreload\n",
    "%autoreload 2\n",
    "\n",
    "import os\n",
    "import shutil\n",
    "import json\n",
    "import pathlib\n",
    "from osgeo import gdal\n",
    "from copernicus import Client, get_labels, get_sentinel2_product_ids, download_sentinel2_products\n",
    "import building_dection as bd\n",
    "\n"
   ]
  },
  {
   "cell_type": "code",
   "execution_count": 2,
   "metadata": {},
   "outputs": [],
   "source": [
    "credentials = json.load(open('credentials.json'))\n",
    "client = Client(credentials['username'], credentials['password'])"
   ]
  },
  {
   "cell_type": "markdown",
   "metadata": {},
   "source": [
    "### Define Project Paths "
   ]
  },
  {
   "cell_type": "code",
   "execution_count": 3,
   "metadata": {},
   "outputs": [],
   "source": [
    "sn7_path = pathlib.Path('D:\\snap_data\\sn7')\n",
    "data_path = sn7_path / 'data'\n",
    "train_path = sn7_path / 'SN7_buildings_train' / 'train'\n",
    "sentinel_path = sn7_path / 'sentinel-2'\n",
    "vector_label_dir = sn7_path / 'vector_labels'"
   ]
  },
  {
   "cell_type": "markdown",
   "metadata": {},
   "source": [
    "### Get Building Label Files"
   ]
  },
  {
   "cell_type": "code",
   "execution_count": 4,
   "metadata": {},
   "outputs": [],
   "source": [
    "labels = get_labels(train_path)[:20]\n",
    "\n",
    "# copy labels files to vector_label_dir\n",
    "for label in labels:\n",
    "    shutil.copy(label, vector_label_dir / label.name)\n",
    "\n",
    "labels = [ vector_label_dir / label.name for label in labels]\n",
    "\n"
   ]
  },
  {
   "cell_type": "markdown",
   "metadata": {},
   "source": [
    "### Init data dir and location dirs"
   ]
  },
  {
   "cell_type": "code",
   "execution_count": null,
   "metadata": {},
   "outputs": [],
   "source": [
    "sn7_locations = []\n",
    "for label in labels[:10]:\n",
    "    label_name = str(label).split(\"_mosaic_\")[-1].split(\"_Buildings\")[0]\n",
    "    loc_path = data_path / str(label).split(\"_mosaic_\")[-1].split(\"_Buildings\")[0].split(\"-\")[1]\n",
    "    sn7_loc = bd.SN7_Location(loc_path, label_name)\n",
    "    sn7_loc.init_labels(label)\n",
    "    sn7_locations.append(sn7_loc)"
   ]
  },
  {
   "cell_type": "code",
   "execution_count": null,
   "metadata": {},
   "outputs": [
    {
     "data": {
      "text/plain": [
       "[Location(L15-0331E-1257N_1327_3160_13),\n",
       " Location(L15-0357E-1223N_1429_3296_13),\n",
       " Location(L15-0358E-1220N_1433_3310_13),\n",
       " Location(L15-0361E-1300N_1446_2989_13),\n",
       " Location(L15-0368E-1245N_1474_3210_13),\n",
       " Location(L15-0434E-1218N_1736_3318_13),\n",
       " Location(L15-0487E-1246N_1950_3207_13),\n",
       " Location(L15-0566E-1185N_2265_3451_13),\n",
       " Location(L15-0571E-1075N_2287_3888_13),\n",
       " Location(L15-0586E-1127N_2345_3680_13)]"
      ]
     },
     "execution_count": 36,
     "metadata": {},
     "output_type": "execute_result"
    }
   ],
   "source": [
    "sn7_locations"
   ]
  },
  {
   "cell_type": "markdown",
   "metadata": {},
   "source": [
    "### Get S2-L1C products"
   ]
  },
  {
   "cell_type": "code",
   "execution_count": null,
   "metadata": {},
   "outputs": [
    {
     "name": "stdout",
     "output_type": "stream",
     "text": [
      "\n",
      "Loc: 0331E, Prod: None, None\n",
      "Product S2B_MSIL1C_20200110T185739_N0500_R113_T10SFH_20230426T213902.SAFE already downloaded\n",
      "label_extent: ulx: 615497.0\tuly: 4206249.0\tlrx: 619397.0\tlry: 4202389.0\n",
      "SAFE_extent: ulx:  600000\tuly: 4300020\tlrx: 709800\tlry: 4190220\n",
      "\n",
      "Loc: 0331E, Prod: S2B_MSIL1C_20200110T185739_N0500_R113_T10SFH_20230426T213902.SAFE, D:\\snap_data\\sn7\\data\\0331E\\S2B_MSIL1C_20200110T185739_N0500_R113_T10SFH_20230426T213902.SAFE\n",
      "\n",
      "Loc: 0357E, Prod: None, None\n",
      "Product S2A_MSIL1C_20200109T183731_N0500_R027_T11SMS_20230428T041538.SAFE already downloaded\n",
      "label_extent: ulx: 481127.0\tuly: 3666556.0\tlrx: 485247.0\tlry: 3662476.0\n",
      "SAFE_extent: ulx:  399960\tuly: 3700020\tlrx: 509760\tlry: 3590220\n",
      "\n",
      "Loc: 0357E, Prod: S2A_MSIL1C_20200109T183731_N0500_R027_T11SMS_20230428T041538.SAFE, D:\\snap_data\\sn7\\data\\0357E\\S2A_MSIL1C_20200109T183731_N0500_R027_T11SMS_20230428T041538.SAFE\n",
      "\n",
      "Loc: 0358E, Prod: None, None\n",
      "Product S2A_MSIL1C_20200129T183621_N0208_R027_T11SNS_20200129T215547.SAFE already downloaded\n",
      "label_extent: ulx: 497514.0\tuly: 3609284.0\tlrx: 501644.0\tlry: 3605154.0\n",
      "SAFE_extent: ulx:  499980\tuly: 3700020\tlrx: 609780\tlry: 3590220\n",
      "ROI not covered by image\n",
      "\tNo L1C Product Found for:  L15-0358E-1220N_1433_3310_13\n",
      "\n",
      "Loc: 0368E, Prod: None, None\n",
      "Product S2A_MSIL1C_20200106T182741_N0500_R127_T11SPA_20230426T210208.SAFE already downloaded\n",
      "label_extent: ulx: 659524.0\tuly: 4012572.0\tlrx: 663534.0\tlry: 4008582.0\n",
      "SAFE_extent: ulx:  600000\tuly: 4100040\tlrx: 709800\tlry: 3990240\n",
      "\n",
      "Loc: 0368E, Prod: S2A_MSIL1C_20200106T182741_N0500_R127_T11SPA_20230426T210208.SAFE, D:\\snap_data\\sn7\\data\\0368E\\S2A_MSIL1C_20200106T182741_N0500_R127_T11SPA_20230426T210208.SAFE\n",
      "\n",
      "Loc: 0434E, Prod: None, None\n",
      "Product S2A_MSIL1C_20200111T173701_N0500_R055_T13SFR_20230428T081153.SAFE already downloaded\n",
      "label_extent: ulx: 621460.0\tuly: 3576744.0\tlrx: 625270.0\tlry: 3573524.0\n",
      "SAFE_extent: ulx:  600000\tuly: 3600000\tlrx: 709800\tlry: 3490200\n",
      "\n",
      "Loc: 0434E, Prod: S2A_MSIL1C_20200111T173701_N0500_R055_T13SFR_20230428T081153.SAFE, D:\\snap_data\\sn7\\data\\0434E\\S2A_MSIL1C_20200111T173701_N0500_R055_T13SFR_20230428T081153.SAFE\n",
      "\n",
      "Loc: 0487E, Prod: None, None\n",
      "Product S2A_MSIL1C_20200112T170651_N0500_R069_T15SUA_20230629T201230.SAFE already downloaded\n",
      "label_extent: ulx: 382702.0\tuly: 4023616.0\tlrx: 386682.0\tlry: 4019646.0\n",
      "SAFE_extent: ulx:  300000\tuly: 4100040\tlrx: 409800\tlry: 3990240\n",
      "\n",
      "Loc: 0487E, Prod: S2A_MSIL1C_20200112T170651_N0500_R069_T15SUA_20230629T201230.SAFE, D:\\snap_data\\sn7\\data\\0487E\\S2A_MSIL1C_20200112T170651_N0500_R069_T15SUA_20230629T201230.SAFE\n",
      "\n",
      "Loc: 0566E, Prod: None, None\n",
      "Product S2A_MSIL1C_20200121T160511_N0500_R054_T17RNL_20230426T201445.SAFE already downloaded\n",
      "label_extent: ulx: 554405.0\tuly: 3014770.0\tlrx: 557435.0\tlry: 3011890.0\n",
      "SAFE_extent: ulx:  499980\tuly: 3100020\tlrx: 609780\tlry: 2990220\n",
      "\n",
      "Loc: 0566E, Prod: S2A_MSIL1C_20200121T160511_N0500_R054_T17RNL_20230426T201445.SAFE, D:\\snap_data\\sn7\\data\\0566E\\S2A_MSIL1C_20200121T160511_N0500_R054_T17RNL_20230426T201445.SAFE\n",
      "\n",
      "Loc: 0571E, Prod: None, None\n",
      "Product S2A_MSIL1C_20200105T154541_N0500_R111_T17PPL_20230421T075135.SAFE already downloaded\n",
      "label_extent: ulx: 665170.0\tuly: 1006403.0\tlrx: 670020.0\tlry: 1001683.0\n",
      "SAFE_extent: ulx:  600000\tuly: 1100040\tlrx: 709800\tlry: 990240\n",
      "\n",
      "Loc: 0571E, Prod: S2A_MSIL1C_20200105T154541_N0500_R111_T17PPL_20230421T075135.SAFE, D:\\snap_data\\sn7\\data\\0571E\\S2A_MSIL1C_20200105T154541_N0500_R111_T17PPL_20230421T075135.SAFE\n",
      "\n",
      "Loc: 0586E, Prod: None, None\n",
      "Product S2A_MSIL1C_20200115T154541_N0208_R111_T18QTE_20200115T190541.SAFE already downloaded\n",
      "label_extent: ulx: 293988.0\tuly: 1988909.0\tlrx: 298328.0\tlry: 1984249.0\n",
      "SAFE_extent: ulx:  199980\tuly: 2000040\tlrx: 309780\tlry: 1890240\n",
      "\n",
      "Loc: 0586E, Prod: S2A_MSIL1C_20200115T154541_N0208_R111_T18QTE_20200115T190541.SAFE, D:\\snap_data\\sn7\\data\\0586E\\S2A_MSIL1C_20200115T154541_N0208_R111_T18QTE_20200115T190541.SAFE\n"
     ]
    }
   ],
   "source": [
    "for sn7_loc in sn7_locations:\n",
    "    print(f\"\\nLoc: {sn7_loc.path.name}, Prod: {sn7_loc.product_name}, {sn7_loc.l1c_path}\")\n",
    "    try:\n",
    "        sn7_loc.init_l1c(client, sentinel_path)\n",
    "        print(f\"\\nLoc: {sn7_loc.path.name}, Prod: {sn7_loc.product_name}, {sn7_loc.l1c_path}\")\n",
    "    except Exception as e:\n",
    "        print(e)\n",
    "        print(\"\\tNo L1C Product Found for: \", sn7_loc.label)\n",
    "        # remove the location from the list\n",
    "        sn7_locations.remove(sn7_loc)\n"
   ]
  },
  {
   "cell_type": "code",
   "execution_count": null,
   "metadata": {},
   "outputs": [
    {
     "name": "stdout",
     "output_type": "stream",
     "text": [
      "Loc: 0331E, Prod: 085e9579-18af-4f27-b479-48cd70b8bb30\n",
      "Loc: 0357E, Prod: 065a6272-73aa-4a33-9a21-b3e4b94e6517\n",
      "Loc: 0361E, Prod: None\n",
      "\tNo L1C Product Found for:  L15-0361E-1300N_1446_2989_13\n",
      "Loc: 0434E, Prod: e66dd68b-1cf5-4361-9faf-999f4c7c94f0\n",
      "Loc: 0487E, Prod: af75a99f-76d5-4b83-a07f-f04b938cffae\n",
      "Loc: 0566E, Prod: 43aa7186-ffbb-4023-88fd-6530aabd08c3\n",
      "Loc: 0571E, Prod: 9510aefd-a640-4b9a-9422-e3f589df20ea\n",
      "Loc: 0586E, Prod: 984d45ac-16c6-5f2f-9a7f-dcfb93902375\n"
     ]
    }
   ],
   "source": [
    "for sn7_loc in sn7_locations:\n",
    "    print(f\"Loc: {sn7_loc.path.name}, Prod: {sn7_loc.product_id}\")\n",
    "    if sn7_loc.product_id is None:\n",
    "        print(\"\\tNo L1C Product Found for: \", sn7_loc.label)\n",
    "        # remove the location from the list\n",
    "        sn7_locations.remove(sn7_loc)"
   ]
  },
  {
   "cell_type": "code",
   "execution_count": null,
   "metadata": {},
   "outputs": [],
   "source": [
    "modifications = [\n",
    "    {\n",
    "        \"flag\": \"SEN2COR_MODIFY_LUT_AEROSOL\",\n",
    "        \"value\": \"MARITIME\",\n",
    "        \"info\": \"Look Up Table Aerosol set to MARITIME\",\n",
    "        \"name\": \"LUT_AEROSOL_MARITIME\",\n",
    "    },\n",
    "    # {\n",
    "    #     \"flag\": \"SEN2COR_MODIFY_LUT_SEASON\",\n",
    "    #     \"value\": \"WINTER\",\n",
    "    #     \"info\": \"Look Up Table Mid Latitude Season set to WINTER\",\n",
    "    #     \"name\": \"LUT_SEASON_WINTER\",\n",
    "    # },\n",
    "]\n"
   ]
  },
  {
   "cell_type": "code",
   "execution_count": null,
   "metadata": {},
   "outputs": [
    {
     "name": "stdout",
     "output_type": "stream",
     "text": [
      "Adding location 0331E, S2B_MSIL1C_20200110T185739_N0500_R113_T10SFH_20230426T213902.SAFE\n",
      "Adding location 0357E, S2A_MSIL1C_20200109T183731_N0500_R027_T11SMS_20230428T041538.SAFE\n",
      "Adding location 0368E, S2A_MSIL1C_20200106T182741_N0500_R127_T11SPA_20230426T210208.SAFE\n",
      "Adding location 0434E, S2A_MSIL1C_20200111T173701_N0500_R055_T13SFR_20230428T081153.SAFE\n",
      "Adding location 0487E, S2A_MSIL1C_20200112T170651_N0500_R069_T15SUA_20230629T201230.SAFE\n"
     ]
    }
   ],
   "source": [
    "import sys\n",
    "sys.path.append(\"../\")\n",
    "from l2a_analysis import L2A_Analysis\n",
    "\n",
    "l2a_analysis = L2A_Analysis(report_name=\"sn7_cop\", base_input_dir=sentinel_path, base_output_dir=sn7_path/\"reports\", resolution=10)\n",
    "l2a_analysis.set_locations_sn7(sn7_locations[:56])\n",
    "l2a_analysis.set_modifications(modifications)\n"
   ]
  },
  {
   "cell_type": "code",
   "execution_count": null,
   "metadata": {},
   "outputs": [
    {
     "name": "stdout",
     "output_type": "stream",
     "text": [
      "0331E ['9564', '1740', '420', '420']\n",
      "0357E ['3540', '8316', '432', '444']\n",
      "0368E ['8940', '6144', '432', '432']\n",
      "0434E ['2484', '2328', '348', '408']\n",
      "0487E ['7836', '8460', '432', '432']\n"
     ]
    },
    {
     "data": {
      "text/plain": [
       "5"
      ]
     },
     "execution_count": 42,
     "metadata": {},
     "output_type": "execute_result"
    }
   ],
   "source": [
    "for k,v in l2a_analysis.locations.items():\n",
    "    print(k, v['region_of_interest'])\n",
    "len(l2a_analysis.locations)"
   ]
  },
  {
   "cell_type": "code",
   "execution_count": null,
   "metadata": {},
   "outputs": [
    {
     "data": {
      "text/plain": [
       "23"
      ]
     },
     "execution_count": 22,
     "metadata": {},
     "output_type": "execute_result"
    }
   ],
   "source": [
    "lut_modifications = [\n",
    "    {\n",
    "        \"flag\": \"SEN2COR_MODIFY_LUT_AEROSOL\",\n",
    "        \"value\": \"MARITIME\",\n",
    "        \"info\": \"Look Up Table Aerosol set to MARITIME\",\n",
    "        \"name\": \"LUT_AEROSOL_MARITIME\",\n",
    "    },\n",
    "    {\n",
    "        \"flag\": \"SEN2COR_MODIFY_LUT_SEASON\",\n",
    "        \"value\": \"WINTER\",\n",
    "        \"info\": \"Look Up Table Mid Latitude Season set to WINTER\",\n",
    "        \"name\": \"LUT_SEASON_WINTER\",\n",
    "    },\n",
    "    {\n",
    "        \"flag\": \"SEN2COR_MODIFY_LUT_OZONE\",\n",
    "        \"value\": \"250\",\n",
    "        \"info\": \"Look Up Table Ozone set to 250\",\n",
    "        \"name\": \"LUT_OZONE_250\",\n",
    "    },\n",
    "    {\n",
    "        \"flag\": \"SEN2COR_MODIFY_LUT_OZONE\",\n",
    "        \"value\": \"331\",\n",
    "        \"info\": \"Look Up Table Ozone set to 331 (standard mid latitude summer)\",\n",
    "        \"name\": \"LUT_OZONE_331\",\n",
    "    },\n",
    "    {\n",
    "        \"flag\": \"SEN2COR_MODIFY_LUT_OZONE\",\n",
    "        \"value\": \"450\",\n",
    "        \"info\": \"Look Up Table Ozone set to 450\",\n",
    "        \"name\": \"LUT_OZONE_450\",\n",
    "    },\n",
    "]\n",
    "\n",
    "flag_modifications = [\n",
    "    {\n",
    "        \"flag\": \"SEN2COR_MODIFY_FLAGS_WV\",\n",
    "        \"value\": \"0\",\n",
    "        \"info\": \"Turn off water vapour correction\",\n",
    "        \"name\": \"FLAG_WV_OFF\",\n",
    "    },\n",
    "    {\n",
    "        \"flag\": \"SEN2COR_MODIFY_FLAGS_CIRRUS\",\n",
    "        \"value\": \"FALSE\",\n",
    "        \"info\": \"Turn off cirrus correction\",\n",
    "        \"name\": \"FLAG_CIRRUS_OFF\",\n",
    "    },\n",
    "    {\n",
    "        \"flag\": \"SEN2COR_MODIFY_FLAGS_BRDF\",\n",
    "        \"value\": \"1\",\n",
    "        \"info\": \"Set BRDF correction to 1\",\n",
    "        \"name\": \"FLAG_BRDF_1\",\n",
    "    },\n",
    "    {\n",
    "        \"flag\": \"SEN2COR_MODIFY_FLAGS_BRDF\",\n",
    "        \"value\": \"2\",\n",
    "        \"info\": \"Set BRDF correction to 2\",\n",
    "        \"name\": \"FLAG_BRDF_2\",\n",
    "    },\n",
    "    {\n",
    "        \"flag\": \"SEN2COR_MODIFY_CALIB_VISIBILITY\",\n",
    "        \"value\": \"20\",\n",
    "        \"info\": \"Set visibility to 20km\",\n",
    "        \"name\": \"CALIB_VISIBILITY_20\",\n",
    "    },\n",
    "    {\n",
    "        \"flag\": \"SEN2COR_MODIFY_CALIB_VISIBILITY\",\n",
    "        \"value\": \"80\",\n",
    "        \"info\": \"Set visibility to 80km\",\n",
    "        \"name\": \"CALIB_VISIBILITY_80\",\n",
    "    },\n",
    "    {\n",
    "        \"flag\": \"SEN2COR_MODIFY_CALIB_VISIBILITY\",\n",
    "        \"value\": \"120\",\n",
    "        \"info\": \"Set visibility to 120km\",\n",
    "        \"name\": \"CALIB_VISIBILITY_120\",\n",
    "    },\n",
    "]\n",
    "\n",
    "class_modifications = [\n",
    "    {\n",
    "        \"flag\": \"SEN2COR_MOD_const_class\",\n",
    "        \"value\": \"0\",\n",
    "        \"info\": \"Set whole SCL layer to NO_DATA\",\n",
    "        \"name\": \"class_NO_DATA\",\n",
    "    },\n",
    "    # {\n",
    "    #     'flag' : 'SEN2COR_MOD_const_class',\n",
    "    #     'value' : '1',\n",
    "    #     'info' : 'Set whole SCL layer to SATURATED_OR_DEFECTIVE',\n",
    "    #     'name' : 'class_SATURATED_OR_DEFECTIVE'\n",
    "    # },\n",
    "    # {\n",
    "    #     \"flag\": \"SEN2COR_MOD_const_class\",\n",
    "    #     \"value\": \"2\",\n",
    "    #     \"info\": \"Set whole SCL layer to CASTED_SHADOWS\",\n",
    "    #     \"name\": \"class_CASTED_SHADOWS\",\n",
    "    # },\n",
    "    {\n",
    "        \"flag\": \"SEN2COR_MOD_const_class\",\n",
    "        \"value\": \"3\",\n",
    "        \"info\": \"Set whole SCL layer to CLOUD_SHADOWS\",\n",
    "        \"name\": \"class_CLOUD_SHADOWS\",\n",
    "    },\n",
    "    {\n",
    "        \"flag\": \"SEN2COR_MOD_const_class\",\n",
    "        \"value\": \"4\",\n",
    "        \"info\": \"Set whole SCL layer to VEGETATION\",\n",
    "        \"name\": \"class_VEGETATION\",\n",
    "    },\n",
    "    {\n",
    "        \"flag\": \"SEN2COR_MOD_const_class\",\n",
    "        \"value\": \"5\",\n",
    "        \"info\": \"Set whole SCL layer to NOT_VEGETATED\",\n",
    "        \"name\": \"class_NOT_VEGETATED\",\n",
    "    },\n",
    "    {\n",
    "        \"flag\": \"SEN2COR_MOD_const_class\",\n",
    "        \"value\": \"6\",\n",
    "        \"info\": \"Set whole SCL layer to WATER\",\n",
    "        \"name\": \"class_WATER\",\n",
    "    },\n",
    "    {\n",
    "        \"flag\": \"SEN2COR_MOD_const_class\",\n",
    "        \"value\": \"7\",\n",
    "        \"info\": \"Set whole SCL layer to UNCLASSIFIED\",\n",
    "        \"name\": \"class_UNCLASSIFIED\",\n",
    "    },\n",
    "    {\n",
    "        \"flag\": \"SEN2COR_MOD_const_class\",\n",
    "        \"value\": \"8\",\n",
    "        \"info\": \"Set whole SCL layer to CLOUD_MEDIUM_PROBABILITY\",\n",
    "        \"name\": \"class_CLOUD_MEDIUM_PROBABILITY\",\n",
    "    },\n",
    "    {\n",
    "        \"flag\": \"SEN2COR_MOD_const_class\",\n",
    "        \"value\": \"9\",\n",
    "        \"info\": \"Set whole SCL layer to CLOUD_HIGH_PROBABILITY\",\n",
    "        \"name\": \"class_CLOUD_HIGH_PROBABILITY\",\n",
    "    },\n",
    "    {\n",
    "        \"flag\": \"SEN2COR_MOD_const_class\",\n",
    "        \"value\": \"10\",\n",
    "        \"info\": \"Set whole SCL layer to THIN_CIRRUS\",\n",
    "        \"name\": \"class_THIN_CIRRUS\",\n",
    "    },\n",
    "    {\n",
    "        \"flag\": \"SEN2COR_MOD_const_class\",\n",
    "        \"value\": \"11\",\n",
    "        \"info\": \"Set whole SCL layer to SNOW\",\n",
    "        \"name\": \"class_SNOW\",\n",
    "    },\n",
    "]\n",
    "\n",
    "total_modifications = lut_modifications + flag_modifications + class_modifications"
   ]
  },
  {
   "cell_type": "code",
   "execution_count": null,
   "metadata": {},
   "outputs": [],
   "source": [
    "l2a_analysis.set_modifications(total_modifications)\n",
    "l2a_analysis.run_sen2cor()\n"
   ]
  }
 ],
 "metadata": {
  "kernelspec": {
   "display_name": "venv",
   "language": "python",
   "name": "python3"
  },
  "language_info": {
   "codemirror_mode": {
    "name": "ipython",
    "version": 3
   },
   "file_extension": ".py",
   "mimetype": "text/x-python",
   "name": "python",
   "nbconvert_exporter": "python",
   "pygments_lexer": "ipython3",
   "version": "3.11.4"
  }
 },
 "nbformat": 4,
 "nbformat_minor": 2
}
