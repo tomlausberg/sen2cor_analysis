{
 "cells": [
  {
   "cell_type": "markdown",
   "metadata": {},
   "source": [
    "### Get access token\n",
    "[Documentation](https://documentation.dataspace.copernicus.eu/APIs/Token.html)\n",
    "\n",
    "### OAuth Setup\n",
    "[Docs](https://documentation.dataspace.copernicus.eu/APIs/SentinelHub/Overview/Authentication.html#python), [Credentials](https://shapps.dataspace.copernicus.eu/dashboard/#/account/settings)\n"
   ]
  },
  {
   "cell_type": "code",
   "execution_count": 149,
   "metadata": {},
   "outputs": [
    {
     "name": "stdout",
     "output_type": "stream",
     "text": [
      "The autoreload extension is already loaded. To reload it, use:\n",
      "  %reload_ext autoreload\n"
     ]
    }
   ],
   "source": [
    "%load_ext autoreload\n",
    "%autoreload 2\n",
    "\n",
    "import os\n",
    "import shutil\n",
    "import json\n",
    "import pathlib\n",
    "from osgeo import gdal\n",
    "from copernicus import Client, get_labels, get_sentinel2_product_ids, download_sentinel2_products\n",
    "import building_dection as bd\n",
    "\n"
   ]
  },
  {
   "cell_type": "code",
   "execution_count": 150,
   "metadata": {},
   "outputs": [],
   "source": [
    "credentials = json.load(open('credentials.json'))\n",
    "client = Client(credentials['username'], credentials['password'])"
   ]
  },
  {
   "cell_type": "markdown",
   "metadata": {},
   "source": [
    "### Define Project Paths "
   ]
  },
  {
   "cell_type": "code",
   "execution_count": 151,
   "metadata": {},
   "outputs": [],
   "source": [
    "sn7_path = pathlib.Path('D:\\snap_data\\sn7')\n",
    "data_path = sn7_path / 'data'\n",
    "train_path = sn7_path / 'SN7_buildings_train' / 'train'\n",
    "sentinel_path = sn7_path / 'sentinel-2'\n",
    "vector_label_dir = sn7_path / 'vector_labels'"
   ]
  },
  {
   "cell_type": "markdown",
   "metadata": {},
   "source": [
    "### Get Building Label Files"
   ]
  },
  {
   "cell_type": "code",
   "execution_count": 152,
   "metadata": {},
   "outputs": [],
   "source": [
    "labels = get_labels(train_path)[:20]\n",
    "\n",
    "# copy labels files to vector_label_dir\n",
    "for label in labels:\n",
    "    shutil.copy(label, vector_label_dir / label.name)\n",
    "\n",
    "labels = [ vector_label_dir / label.name for label in labels]\n",
    "\n"
   ]
  },
  {
   "cell_type": "markdown",
   "metadata": {},
   "source": [
    "### Init data dir and location dirs"
   ]
  },
  {
   "cell_type": "code",
   "execution_count": 153,
   "metadata": {},
   "outputs": [
    {
     "name": "stdout",
     "output_type": "stream",
     "text": [
      "0358E L15-0358E-1220N_1433_3310_13 D:\\snap_data\\sn7\\data\\0358E\n"
     ]
    },
    {
     "data": {
      "text/plain": [
       "WindowsPath('D:/snap_data/sn7/vector_labels/global_monthly_2020_01_mosaic_L15-0358E-1220N_1433_3310_13_Buildings.geojson')"
      ]
     },
     "execution_count": 153,
     "metadata": {},
     "output_type": "execute_result"
    }
   ],
   "source": [
    "label = labels[2]\n",
    "loc_name  = str(label).split(\"_mosaic_\")[-1].split(\"_Buildings\")[0].split(\"-\")[1]\n",
    "label_name = str(label).split(\"_mosaic_\")[-1].split(\"_Buildings\")[0]\n",
    "loc_path = data_path / loc_name\n",
    "print(loc_name, label_name, loc_path)\n",
    "label"
   ]
  },
  {
   "cell_type": "code",
   "execution_count": 154,
   "metadata": {},
   "outputs": [],
   "source": [
    "sn7_locations = []\n",
    "for label in labels:\n",
    "    label_name = str(label).split(\"_mosaic_\")[-1].split(\"_Buildings\")[0]\n",
    "    loc_path = data_path / str(label).split(\"_mosaic_\")[-1].split(\"_Buildings\")[0].split(\"-\")[1]\n",
    "    sn7_loc = bd.SN7_Location(loc_path, label_name)\n",
    "    sn7_loc.init_labels(label)\n",
    "    sn7_locations.append(sn7_loc)"
   ]
  },
  {
   "cell_type": "code",
   "execution_count": 155,
   "metadata": {},
   "outputs": [
    {
     "data": {
      "text/plain": [
       "WindowsPath('None')"
      ]
     },
     "execution_count": 155,
     "metadata": {},
     "output_type": "execute_result"
    }
   ],
   "source": [
    "sn7_locations[0].l1c_path"
   ]
  },
  {
   "cell_type": "markdown",
   "metadata": {},
   "source": [
    "### Get S2-L1C products"
   ]
  },
  {
   "cell_type": "code",
   "execution_count": 156,
   "metadata": {},
   "outputs": [
    {
     "name": "stdout",
     "output_type": "stream",
     "text": [
      "Product S2B_MSIL1C_20200110T185739_N0500_R113_T10SFH_20230426T213902.SAFE already downloaded\n",
      "Product S2A_MSIL1C_20200109T183731_N0500_R027_T11SMS_20230428T041538.SAFE already downloaded\n",
      "No L1C Product Found for:  L15-0357E-1223N_1429_3296_13\n",
      "Product S2B_MSIL1C_20200117T184709_N0208_R070_T11TNJ_20200117T203714.SAFE already downloaded\n",
      "No L1C Product Found for:  L15-0361E-1300N_1446_2989_13\n",
      "Product S2A_MSIL1C_20200111T173701_N0500_R055_T13SFR_20230428T081153.SAFE already downloaded\n",
      "No L1C Product Found for:  L15-0434E-1218N_1736_3318_13\n",
      "Product S2A_MSIL1C_20200121T160511_N0500_R054_T17RNL_20230426T201445.SAFE already downloaded\n",
      "Product S2A_MSIL1C_20200105T154541_N0500_R111_T17PPL_20230421T075135.SAFE already downloaded\n",
      "Product S2A_MSIL1C_20200115T154541_N0208_R111_T18QTE_20200115T190541.SAFE already downloaded\n",
      "No L1C Product Found for:  L15-0586E-1127N_2345_3680_13\n",
      "No L1C Product Found for:  L15-0614E-0946N_2459_4406_13\n",
      "Product S2B_MSIL1C_20200103T141729_N0500_R010_T20MRB_20230618T162034.SAFE already downloaded\n",
      "No L1C Product Found for:  L15-0683E-1006N_2732_4164_13\n",
      "Product S2B_MSIL1C_20200128T113309_N0500_R080_T27PZS_20230423T130626.SAFE already downloaded\n",
      "No L1C Product Found for:  L15-0924E-1108N_3699_3757_13\n",
      "Product S2B_MSIL1C_20200115T112319_N0500_R037_T30UWD_20230424T013610.SAFE already downloaded\n",
      "Product S2A_MSIL1C_20200112T102401_N0500_R065_T30NXN_20230424T062942.SAFE already downloaded\n",
      "No L1C Product Found for:  L15-1015E-1062N_4061_3941_13\n"
     ]
    }
   ],
   "source": [
    "for sn7_loc in sn7_locations:\n",
    "    try:\n",
    "        sn7_loc.init_l1c(client, sentinel_path)\n",
    "    except:\n",
    "        print(\"No L1C Product Found for: \", sn7_loc.label)\n",
    "        # remove the location from the list\n",
    "        sn7_locations.remove(sn7_loc)"
   ]
  },
  {
   "cell_type": "code",
   "execution_count": 157,
   "metadata": {},
   "outputs": [
    {
     "data": {
      "text/plain": [
       "WindowsPath('D:/snap_data/sn7/data/0331E/L1C.SAFE')"
      ]
     },
     "execution_count": 157,
     "metadata": {},
     "output_type": "execute_result"
    }
   ],
   "source": [
    "sn7_locations[0].l1c_path"
   ]
  },
  {
   "cell_type": "code",
   "execution_count": 25,
   "metadata": {},
   "outputs": [],
   "source": [
    "locs = {}\n",
    "for k,v in downloaded_products.items():\n",
    "    locs[k] = v['SAFE_path']\n",
    "    break\n",
    "    \n",
    "modifications = [\n",
    "    {\n",
    "        \"flag\": \"SEN2COR_MODIFY_LUT_AEROSOL\",\n",
    "        \"value\": \"MARITIME\",\n",
    "        \"info\": \"Look Up Table Aerosol set to MARITIME\",\n",
    "        \"name\": \"LUT_AEROSOL_MARITIME\",\n",
    "    },\n",
    "    # {\n",
    "    #     \"flag\": \"SEN2COR_MODIFY_LUT_SEASON\",\n",
    "    #     \"value\": \"WINTER\",\n",
    "    #     \"info\": \"Look Up Table Mid Latitude Season set to WINTER\",\n",
    "    #     \"name\": \"LUT_SEASON_WINTER\",\n",
    "    # },\n",
    "]\n"
   ]
  },
  {
   "cell_type": "code",
   "execution_count": null,
   "metadata": {},
   "outputs": [],
   "source": []
  },
  {
   "cell_type": "code",
   "execution_count": 26,
   "metadata": {},
   "outputs": [],
   "source": [
    "import sys\n",
    "sys.path.append(\"../\")\n",
    "from l2a_analysis import L2A_Analysis\n",
    "\n",
    "l2a_analysis = L2A_Analysis(report_name=\"sn7_cop\", base_input_dir=sentinel_path, base_output_dir=sn7_path/\"reports\", resolution=10)\n",
    "l2a_analysis.set_locations(locs)\n",
    "l2a_analysis.set_modifications(modifications)\n"
   ]
  },
  {
   "cell_type": "code",
   "execution_count": 27,
   "metadata": {},
   "outputs": [
    {
     "name": "stdout",
     "output_type": "stream",
     "text": [
      "label_extent: ulx: 615497.0\tuly: 4206249.0\tlrx: 619397.0\tlry: 4202389.0\n",
      "SAFE_extent: ulx:  600000\tuly: 4300020\tlrx: 709800\tlry: 4190220\n"
     ]
    }
   ],
   "source": [
    "for loc, product in downloaded_products.items():\n",
    "    roi = bd.get_region_of_interest(product[\"raster_label_path\"], product[\"SAFE_path\"])\n",
    "\n",
    "    \n",
    "    sen2cor_roi = bd.transform_roi_for_sen2cor(roi)\n",
    "    l2a_analysis.add_region_of_interest(loc, sen2cor_roi)\n",
    "    break"
   ]
  },
  {
   "cell_type": "code",
   "execution_count": 28,
   "metadata": {},
   "outputs": [
    {
     "name": "stdout",
     "output_type": "stream",
     "text": [
      "Running sen2cor for L15-0331E-1257N_1327_3160_13: Reference\n",
      "Running command:  C:\\Users\\tlaus\\Documents\\local\\semester_thesis\\Sen2Cor-02.11.00-win64\\L2A_Process.bat D:\\snap_data\\sn7\\sentinel-2\\L15-0331E-1257N_1327_3160_13\\S2B_MSIL1C_20200110T185739_N0500_R113_T10SFH_20230426T213902.SAFE --resolution 10 --GIP_L2A C:\\Users\\tlaus\\Documents\\sen2cor\\2.11\\cfg\\L2A_GIPP_custom.xml --output_dir D:\\snap_data\\sn7\\reports/space_net_7_10_2020_copernicus/L15-0331E-1257N_1327_3160_13/reference\n",
      "Running sen2cor for L15-0331E-1257N_1327_3160_13: LUT_AEROSOL_MARITIME\n",
      "Running command:  C:\\Users\\tlaus\\Documents\\local\\semester_thesis\\Sen2Cor-02.11.00-win64\\L2A_Process.bat D:\\snap_data\\sn7\\sentinel-2\\L15-0331E-1257N_1327_3160_13\\S2B_MSIL1C_20200110T185739_N0500_R113_T10SFH_20230426T213902.SAFE --resolution 10 --GIP_L2A C:\\Users\\tlaus\\Documents\\sen2cor\\2.11\\cfg\\L2A_GIPP_custom.xml --output_dir D:\\snap_data\\sn7\\reports/space_net_7_10_2020_copernicus/L15-0331E-1257N_1327_3160_13/LUT_AEROSOL_MARITIME\n"
     ]
    }
   ],
   "source": [
    "l2a_analysis.run_sen2cor()\n"
   ]
  }
 ],
 "metadata": {
  "kernelspec": {
   "display_name": "venv",
   "language": "python",
   "name": "python3"
  },
  "language_info": {
   "codemirror_mode": {
    "name": "ipython",
    "version": 3
   },
   "file_extension": ".py",
   "mimetype": "text/x-python",
   "name": "python",
   "nbconvert_exporter": "python",
   "pygments_lexer": "ipython3",
   "version": "3.11.4"
  }
 },
 "nbformat": 4,
 "nbformat_minor": 2
}
