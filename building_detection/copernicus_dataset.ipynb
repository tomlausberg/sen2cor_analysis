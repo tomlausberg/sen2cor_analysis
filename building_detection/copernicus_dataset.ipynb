{
 "cells": [
  {
   "cell_type": "markdown",
   "metadata": {},
   "source": [
    "### Get access token\n",
    "[Documentation](https://documentation.dataspace.copernicus.eu/APIs/Token.html)\n",
    "\n",
    "\n"
   ]
  },
  {
   "cell_type": "markdown",
   "metadata": {},
   "source": [
    "### OAuth Setup\n",
    "[Docs](https://documentation.dataspace.copernicus.eu/APIs/SentinelHub/Overview/Authentication.html#python), [Credentials](https://shapps.dataspace.copernicus.eu/dashboard/#/account/settings)\n",
    "\n"
   ]
  },
  {
   "cell_type": "code",
   "execution_count": 83,
   "metadata": {},
   "outputs": [
    {
     "name": "stdout",
     "output_type": "stream",
     "text": [
      "The autoreload extension is already loaded. To reload it, use:\n",
      "  %reload_ext autoreload\n"
     ]
    }
   ],
   "source": [
    "%load_ext autoreload\n",
    "%autoreload 2\n",
    "\n",
    "import json\n",
    "import pathlib\n",
    "from osgeo import gdal\n",
    "from copernicus import Client, get_labels, get_sentinel2_product_ids, download_sentinel2_products\n",
    "\n",
    "credentials = json.load(open('credentials.json'))"
   ]
  },
  {
   "cell_type": "code",
   "execution_count": 84,
   "metadata": {},
   "outputs": [],
   "source": [
    "client = Client(credentials['username'], credentials['password'])"
   ]
  },
  {
   "cell_type": "code",
   "execution_count": 85,
   "metadata": {},
   "outputs": [],
   "source": [
    "# aoi = \"POLYGON((4.220581 50.958859,4.521264 50.953236,4.545977 50.906064,4.541858 50.802029,4.489685 50.763825,4.23843 50.767734,4.192435 50.806369,4.189689 50.907363,4.220581 50.958859))\"\n",
    "\n",
    "# results = client.search(\"2020-01-01\", \"2020-01-02\", \"SENTINEL-2\", aoi)"
   ]
  },
  {
   "cell_type": "code",
   "execution_count": 86,
   "metadata": {},
   "outputs": [],
   "source": [
    "sn7_path = pathlib.Path('D:\\snap_data\\sn7')\n",
    "train_path = sn7_path / 'SN7_buildings_train' / 'train'\n",
    "sentinel_path = sn7_path / 'sentinel-2'"
   ]
  },
  {
   "cell_type": "code",
   "execution_count": 87,
   "metadata": {},
   "outputs": [
    {
     "name": "stdout",
     "output_type": "stream",
     "text": [
      "L15-0331E-1257N_1327_3160_13: POLYGON((-121.68466515096087 37.9615752659464, -121.64058492652846 37.9615752659464, -121.64058492652846 37.99617689154867, -121.68466515096087 37.99617689154867, -121.68466515096087 37.9615752659464))\n",
      "L15-0357E-1223N_1429_3296_13: POLYGON((-117.20231626982802 33.100719225768806, -117.15811895229255 33.100719225768806, -117.15811895229255 33.13760723935068, -117.20231626982802 33.13760723935068, -117.20231626982802 33.100719225768806))\n",
      "L15-0358E-1220N_1433_3310_13: POLYGON((-117.02648733393058 32.58380527888377, -116.9824193392965 32.58380527888377, -116.9824193392965 32.62111062364426, -117.02648733393058 32.62111062364426, -117.02648733393058 32.58380527888377))\n",
      "L15-0361E-1300N_1446_2989_13: POLYGON((-116.4551329875268 43.643957292863114, -116.41104789417814 43.643957292863114, -116.41104789417814 43.675821921569046, -116.4551329875268 43.675821921569046, -116.4551329875268 43.643957292863114))\n",
      "L15-0368E-1245N_1474_3210_13: POLYGON((-115.22466232268128 36.208808257396406, -115.18064197723558 36.208808257396406, -115.18064197723558 36.24428064359288, -115.22466232268128 36.24428064359288, -115.22466232268128 36.208808257396406))\n",
      "L15-0434E-1218N_1736_3318_13: POLYGON((-103.70976901644643 32.29163031381665, -103.6693395474464 32.29163031381665, -103.6693395474464 32.3209350036707, -103.70976901644643 32.3209350036707, -103.70976901644643 32.29163031381665))\n",
      "L15-0487E-1246N_1950_3207_13: POLYGON((-94.30664062527252 36.31512514766277, -94.26269531242772 36.31512514766277, -94.26269531242772 36.350493800852384, -94.30664062527252 36.350493800852384, -94.30664062527252 36.31512514766277))\n",
      "L15-0566E-1185N_2265_3451_13: POLYGON((-80.45040442552579 27.22855771797025, -80.41983015817303 27.22855771797025, -80.41983015817303 27.254658839496066, -80.45040442552579 27.254658839496066, -80.45040442552579 27.22855771797025))\n",
      "L15-0571E-1075N_2287_3888_13: POLYGON((-79.49718115364962 9.058664485665295, -79.45296788800579 9.058664485665295, -79.45296788800579 9.101213439493298, -79.49718115364962 9.101213439493298, -79.49718115364962 9.058664485665295))\n",
      "L15-0586E-1127N_2345_3680_13: POLYGON((-76.94536578893273 17.936942557900974, -76.90426297865743 17.936942557900974, -76.90426297865743 17.978758364405902, -76.94536578893273 17.978758364405902, -76.94536578893273 17.936942557900974))\n",
      "L15-0595E-1278N_2383_3079_13: POLYGON((-75.27832031206574 40.71390242036889, -75.23437499976932 40.71390242036889, -75.23437499976932 40.74725696344116, -75.27832031206574 40.74725696344116, -75.27832031206574 40.71390242036889))\n",
      "L15-0614E-0946N_2459_4406_13: POLYGON((-71.93850698944074 -13.5392397811821, -71.89448328748394 -13.5392397811821, -71.89448328748394 -13.496993959227403, -71.93850698944074 -13.496993959227403, -71.93850698944074 -13.5392397811821))\n",
      "Error: single positional indexer is out-of-bounds\n",
      "L15-0632E-0892N_2528_4620_13: POLYGON((-68.90638206724533 -22.47200230648029, -68.86253594005174 -22.47200230648029, -68.86253594005174 -22.43281948076358, -68.90638206724533 -22.43281948076358, -68.90638206724533 -22.47200230648029))\n",
      "L15-0683E-1006N_2732_4164_13: POLYGON((-59.941448593274906 -3.030889044723184, -59.89742628205331 -3.030889044723184, -59.89742628205331 -3.001616613450482, -59.941448593274906 -3.001616613450482, -59.941448593274906 -3.030889044723184))\n",
      "L15-0760E-0887N_3041_4643_13: POLYGON((-46.36230468718712 -23.402735209834113, -46.31826677412266 -23.402735209834113, -46.31826677412266 -23.36242859339732, -46.36230468718712 -23.36242859339732, -46.36230468718712 -23.402735209834113))\n",
      "L15-0924E-1108N_3699_3757_13: POLYGON((-17.446414050078666 14.689737492887327, -17.41698098664854 14.689737492887327, -17.41698098664854 14.732497573990486, -17.446414050078666 14.732497573990486, -17.446414050078666 14.689737492887327))\n",
      "L15-0977E-1187N_3911_3441_13: POLYGON((-8.129999278198577 27.606376509284903, -8.092388496181881 27.606376509284903, -8.092388496181881 27.644712827307377, -8.129999278198577 27.644712827307377, -8.129999278198577 27.606376509284903))\n",
      "L15-1014E-1375N_4056_2688_13: POLYGON((-1.757879266679211 52.45600657773992, -1.713910102848543 52.45600657773992, -1.713910102848543 52.48282792637741, -1.757879266679211 52.48282792637741, -1.757879266679211 52.45600657773992))\n",
      "L15-1015E-1062N_4061_3941_13: POLYGON((-1.538165891745914 6.751884569997182, -1.494124011053459 6.751884569997182, -1.494124011053459 6.795571709707279, -1.538165891745914 6.795571709707279, -1.538165891745914 6.751884569997182))\n",
      "L15-1025E-1366N_4102_2726_13: POLYGON((0.263616845029039 51.42654558675698, 0.307662008199387 51.42654558675698, 0.307662008199387 51.45405147326964, 0.263616845029039 51.45405147326964, 0.263616845029039 51.42654558675698))\n"
     ]
    }
   ],
   "source": [
    "labels = get_labels(train_path)[:20]\n",
    "product_ids = get_sentinel2_product_ids(client, labels)"
   ]
  },
  {
   "cell_type": "code",
   "execution_count": 88,
   "metadata": {},
   "outputs": [
    {
     "name": "stdout",
     "output_type": "stream",
     "text": [
      "Downloading L15-0331E-1257N_1327_3160_13...\n",
      "File D:\\snap_data\\sn7\\sentinel-2/L15-0331E-1257N_1327_3160_13.zip already exists\n",
      "Downloading L15-0357E-1223N_1429_3296_13...\n",
      "File D:\\snap_data\\sn7\\sentinel-2/L15-0357E-1223N_1429_3296_13.zip already exists\n",
      "Downloading L15-0358E-1220N_1433_3310_13...\n",
      "File D:\\snap_data\\sn7\\sentinel-2/L15-0358E-1220N_1433_3310_13.zip already exists\n",
      "Downloading L15-0361E-1300N_1446_2989_13...\n",
      "File D:\\snap_data\\sn7\\sentinel-2/L15-0361E-1300N_1446_2989_13.zip already exists\n",
      "Downloading L15-0368E-1245N_1474_3210_13...\n",
      "File D:\\snap_data\\sn7\\sentinel-2/L15-0368E-1245N_1474_3210_13.zip already exists\n",
      "Downloading L15-0434E-1218N_1736_3318_13...\n",
      "File D:\\snap_data\\sn7\\sentinel-2/L15-0434E-1218N_1736_3318_13.zip already exists\n",
      "Downloading L15-0487E-1246N_1950_3207_13...\n",
      "File D:\\snap_data\\sn7\\sentinel-2/L15-0487E-1246N_1950_3207_13.zip already exists\n",
      "Downloading L15-0566E-1185N_2265_3451_13...\n",
      "File D:\\snap_data\\sn7\\sentinel-2/L15-0566E-1185N_2265_3451_13.zip already exists\n",
      "Downloading L15-0571E-1075N_2287_3888_13...\n",
      "File D:\\snap_data\\sn7\\sentinel-2/L15-0571E-1075N_2287_3888_13.zip already exists\n",
      "Downloading L15-0586E-1127N_2345_3680_13...\n",
      "File D:\\snap_data\\sn7\\sentinel-2/L15-0586E-1127N_2345_3680_13.zip already exists\n",
      "Downloading L15-0595E-1278N_2383_3079_13...\n",
      "File D:\\snap_data\\sn7\\sentinel-2/L15-0595E-1278N_2383_3079_13.zip already exists\n",
      "Downloading L15-0632E-0892N_2528_4620_13...\n",
      "File D:\\snap_data\\sn7\\sentinel-2/L15-0632E-0892N_2528_4620_13.zip already exists\n",
      "Downloading L15-0683E-1006N_2732_4164_13...\n",
      "Downloading L15-0760E-0887N_3041_4643_13...\n",
      "Downloading L15-0924E-1108N_3699_3757_13...\n",
      "Downloading L15-0977E-1187N_3911_3441_13...\n",
      "Downloading L15-1014E-1375N_4056_2688_13...\n",
      "Downloading L15-1015E-1062N_4061_3941_13...\n",
      "Downloading L15-1025E-1366N_4102_2726_13...\n"
     ]
    }
   ],
   "source": [
    "downloaded_products = download_sentinel2_products(client, product_ids, sentinel_path)"
   ]
  },
  {
   "cell_type": "code",
   "execution_count": 92,
   "metadata": {},
   "outputs": [
    {
     "name": "stdout",
     "output_type": "stream",
     "text": [
      "L15-0331E-1257N_1327_3160_13 D:\\snap_data\\sn7\\sentinel-2/L15-0331E-1257N_1327_3160_13.zip\n",
      "L15-0357E-1223N_1429_3296_13 D:\\snap_data\\sn7\\sentinel-2/L15-0357E-1223N_1429_3296_13.zip\n",
      "L15-0358E-1220N_1433_3310_13 D:\\snap_data\\sn7\\sentinel-2/L15-0358E-1220N_1433_3310_13.zip\n",
      "L15-0361E-1300N_1446_2989_13 D:\\snap_data\\sn7\\sentinel-2/L15-0361E-1300N_1446_2989_13.zip\n",
      "L15-0368E-1245N_1474_3210_13 D:\\snap_data\\sn7\\sentinel-2/L15-0368E-1245N_1474_3210_13.zip\n",
      "L15-0434E-1218N_1736_3318_13 D:\\snap_data\\sn7\\sentinel-2/L15-0434E-1218N_1736_3318_13.zip\n",
      "L15-0487E-1246N_1950_3207_13 D:\\snap_data\\sn7\\sentinel-2/L15-0487E-1246N_1950_3207_13.zip\n",
      "L15-0566E-1185N_2265_3451_13 D:\\snap_data\\sn7\\sentinel-2/L15-0566E-1185N_2265_3451_13.zip\n",
      "L15-0571E-1075N_2287_3888_13 D:\\snap_data\\sn7\\sentinel-2/L15-0571E-1075N_2287_3888_13.zip\n",
      "L15-0586E-1127N_2345_3680_13 D:\\snap_data\\sn7\\sentinel-2/L15-0586E-1127N_2345_3680_13.zip\n",
      "L15-0595E-1278N_2383_3079_13 D:\\snap_data\\sn7\\sentinel-2/L15-0595E-1278N_2383_3079_13.zip\n",
      "L15-0632E-0892N_2528_4620_13 D:\\snap_data\\sn7\\sentinel-2/L15-0632E-0892N_2528_4620_13.zip\n",
      "L15-0683E-1006N_2732_4164_13 D:\\snap_data\\sn7\\sentinel-2/L15-0683E-1006N_2732_4164_13.zip\n",
      "L15-0760E-0887N_3041_4643_13 D:\\snap_data\\sn7\\sentinel-2/L15-0760E-0887N_3041_4643_13.zip\n",
      "L15-0924E-1108N_3699_3757_13 D:\\snap_data\\sn7\\sentinel-2/L15-0924E-1108N_3699_3757_13.zip\n",
      "L15-0977E-1187N_3911_3441_13 D:\\snap_data\\sn7\\sentinel-2/L15-0977E-1187N_3911_3441_13.zip\n",
      "L15-1014E-1375N_4056_2688_13 D:\\snap_data\\sn7\\sentinel-2/L15-1014E-1375N_4056_2688_13.zip\n",
      "L15-1015E-1062N_4061_3941_13 D:\\snap_data\\sn7\\sentinel-2/L15-1015E-1062N_4061_3941_13.zip\n",
      "L15-1025E-1366N_4102_2726_13 D:\\snap_data\\sn7\\sentinel-2/L15-1025E-1366N_4102_2726_13.zip\n"
     ]
    }
   ],
   "source": [
    "for k,v in downloaded_products.items():\n",
    "    print(k, v['zip_path'])"
   ]
  },
  {
   "cell_type": "code",
   "execution_count": null,
   "metadata": {},
   "outputs": [],
   "source": [
    "import zipfile\n",
    "\n",
    "for k,v in downloaded_products.items():\n",
    "    extract_path = sentinel_path/k\n",
    "    if not extract_path.exists():\n",
    "        print(f'extracting {v[\"zip_path\"]} to {extract_path}')\n",
    "        with zipfile.ZipFile(v['zip_path'], 'r') as zip_ref:\n",
    "            zip_ref.extractall(extract_path)\n",
    "    else:\n",
    "        print(f'{extract_path} already exists')\n",
    "    v['SAFE_path'] = list(extract_path.glob('*.SAFE'))[0]"
   ]
  },
  {
   "cell_type": "code",
   "execution_count": 96,
   "metadata": {},
   "outputs": [],
   "source": [
    "import zipfile\n",
    "with zipfile.ZipFile(prod['zip_path'], 'r') as zip_ref:\n",
    "    zip_ref.extractall(extract_path)"
   ]
  },
  {
   "cell_type": "code",
   "execution_count": 97,
   "metadata": {},
   "outputs": [],
   "source": [
    "safe_path = list(extract_path.glob('*.SAFE'))[0]"
   ]
  },
  {
   "cell_type": "code",
   "execution_count": 98,
   "metadata": {},
   "outputs": [
    {
     "data": {
      "text/plain": [
       "WindowsPath('D:/snap_data/sn7/sentinel-2/L15-0331E-1257N_1327_3160_13/S2B_MSIL1C_20200110T185739_N0500_R113_T10SFH_20230426T213902.SAFE')"
      ]
     },
     "execution_count": 98,
     "metadata": {},
     "output_type": "execute_result"
    }
   ],
   "source": [
    "extract_path.glo"
   ]
  },
  {
   "cell_type": "code",
   "execution_count": null,
   "metadata": {},
   "outputs": [],
   "source": []
  }
 ],
 "metadata": {
  "kernelspec": {
   "display_name": "venv",
   "language": "python",
   "name": "python3"
  },
  "language_info": {
   "codemirror_mode": {
    "name": "ipython",
    "version": 3
   },
   "file_extension": ".py",
   "mimetype": "text/x-python",
   "name": "python",
   "nbconvert_exporter": "python",
   "pygments_lexer": "ipython3",
   "version": "3.11.4"
  }
 },
 "nbformat": 4,
 "nbformat_minor": 2
}
