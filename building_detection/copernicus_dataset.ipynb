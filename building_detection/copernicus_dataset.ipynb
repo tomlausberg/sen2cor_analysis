{
 "cells": [
  {
   "cell_type": "markdown",
   "metadata": {},
   "source": [
    "### Get access token\n",
    "[Documentation](https://documentation.dataspace.copernicus.eu/APIs/Token.html)\n",
    "\n",
    "\n"
   ]
  },
  {
   "cell_type": "markdown",
   "metadata": {},
   "source": [
    "### OAuth Setup\n",
    "[Docs](https://documentation.dataspace.copernicus.eu/APIs/SentinelHub/Overview/Authentication.html#python), [Credentials](https://shapps.dataspace.copernicus.eu/dashboard/#/account/settings)\n",
    "\n"
   ]
  },
  {
   "cell_type": "code",
   "execution_count": 32,
   "metadata": {},
   "outputs": [
    {
     "name": "stdout",
     "output_type": "stream",
     "text": [
      "The autoreload extension is already loaded. To reload it, use:\n",
      "  %reload_ext autoreload\n"
     ]
    }
   ],
   "source": [
    "%load_ext autoreload\n",
    "%autoreload 2\n",
    "\n",
    "import json\n",
    "from copernicus import Client\n",
    "credentials = json.load(open('credentials.json'))"
   ]
  },
  {
   "cell_type": "code",
   "execution_count": 33,
   "metadata": {},
   "outputs": [],
   "source": [
    "client = Client(credentials['username'], credentials['password'])"
   ]
  },
  {
   "cell_type": "code",
   "execution_count": 34,
   "metadata": {},
   "outputs": [
    {
     "name": "stdout",
     "output_type": "stream",
     "text": [
      "https://catalogue.dataspace.copernicus.eu/odata/v1/Products?$filter=Collection/Name eq 'SENTINEL-2' and ContentDate/Start gt 2020-01-01T00:00:00.000Z and ContentDate/Start lt 2020-01-02T00:00:00.000Z and OData.CSC.Intersects(area=geography'SRID=4326;POLYGON((4.220581 50.958859,4.521264 50.953236,4.545977 50.906064,4.541858 50.802029,4.489685 50.763825,4.23843 50.767734,4.192435 50.806369,4.189689 50.907363,4.220581 50.958859))')\n"
     ]
    },
    {
     "data": {
      "text/html": [
       "<div>\n",
       "<style scoped>\n",
       "    .dataframe tbody tr th:only-of-type {\n",
       "        vertical-align: middle;\n",
       "    }\n",
       "\n",
       "    .dataframe tbody tr th {\n",
       "        vertical-align: top;\n",
       "    }\n",
       "\n",
       "    .dataframe thead th {\n",
       "        text-align: right;\n",
       "    }\n",
       "</style>\n",
       "<table border=\"1\" class=\"dataframe\">\n",
       "  <thead>\n",
       "    <tr style=\"text-align: right;\">\n",
       "      <th></th>\n",
       "      <th>@odata.mediaContentType</th>\n",
       "      <th>Id</th>\n",
       "      <th>Name</th>\n",
       "      <th>ContentType</th>\n",
       "      <th>ContentLength</th>\n",
       "      <th>OriginDate</th>\n",
       "      <th>PublicationDate</th>\n",
       "      <th>ModificationDate</th>\n",
       "      <th>Online</th>\n",
       "      <th>EvictionDate</th>\n",
       "      <th>S3Path</th>\n",
       "      <th>Checksum</th>\n",
       "      <th>ContentDate</th>\n",
       "      <th>Footprint</th>\n",
       "      <th>GeoFootprint</th>\n",
       "    </tr>\n",
       "  </thead>\n",
       "  <tbody>\n",
       "    <tr>\n",
       "      <th>0</th>\n",
       "      <td>application/octet-stream</td>\n",
       "      <td>37fe86b3-3953-5214-a8ad-e2e7300a265c</td>\n",
       "      <td>S2A_MSIL2A_20200101T105441_N0213_R051_T31UES_2...</td>\n",
       "      <td>application/octet-stream</td>\n",
       "      <td>0</td>\n",
       "      <td>2020-01-01T16:25:14.866Z</td>\n",
       "      <td>2020-01-01T21:12:20.728Z</td>\n",
       "      <td>2020-01-01T21:12:20.728Z</td>\n",
       "      <td>True</td>\n",
       "      <td></td>\n",
       "      <td>/eodata/Sentinel-2/MSI/L2A/2020/01/01/S2A_MSIL...</td>\n",
       "      <td>[]</td>\n",
       "      <td>{'Start': '2020-01-01T10:54:41.024Z', 'End': '...</td>\n",
       "      <td>geography'SRID=4326;POLYGON ((2.9997121758513 ...</td>\n",
       "      <td>{'type': 'Polygon', 'coordinates': [[[2.999712...</td>\n",
       "    </tr>\n",
       "    <tr>\n",
       "      <th>1</th>\n",
       "      <td>application/octet-stream</td>\n",
       "      <td>2a598001-8248-48cd-a337-3bac87ec690c</td>\n",
       "      <td>S2A_MSIL1C_20200101T105441_N0500_R051_T31UES_2...</td>\n",
       "      <td>application/octet-stream</td>\n",
       "      <td>861556624</td>\n",
       "      <td>2023-10-21T08:49:58.825Z</td>\n",
       "      <td>2023-10-21T21:54:05.882Z</td>\n",
       "      <td>2023-10-21T21:54:15.623Z</td>\n",
       "      <td>True</td>\n",
       "      <td></td>\n",
       "      <td>/eodata/Sentinel-2/MSI/L1C_N0500/2020/01/01/S2...</td>\n",
       "      <td>[{'Value': 'd289cd005bdd7acb675c1ee7045bf334',...</td>\n",
       "      <td>{'Start': '2020-01-01T10:54:41.024Z', 'End': '...</td>\n",
       "      <td>geography'SRID=4326;POLYGON ((2.9997121758513 ...</td>\n",
       "      <td>{'type': 'Polygon', 'coordinates': [[[2.999712...</td>\n",
       "    </tr>\n",
       "    <tr>\n",
       "      <th>2</th>\n",
       "      <td>application/octet-stream</td>\n",
       "      <td>147580e0-de2b-4f89-a810-7b5c5b217fc8</td>\n",
       "      <td>S2A_MSIL2A_20200101T105441_N0500_R051_T31UES_2...</td>\n",
       "      <td>application/octet-stream</td>\n",
       "      <td>1110570408</td>\n",
       "      <td>2023-10-21T08:55:19.760Z</td>\n",
       "      <td>2023-10-21T22:00:05.591Z</td>\n",
       "      <td>2023-10-21T22:00:19.019Z</td>\n",
       "      <td>True</td>\n",
       "      <td></td>\n",
       "      <td>/eodata/Sentinel-2/MSI/L2A_N0500/2020/01/01/S2...</td>\n",
       "      <td>[{'Value': '842486bdb292d8dadfb56e700d984963',...</td>\n",
       "      <td>{'Start': '2020-01-01T10:54:41.024Z', 'End': '...</td>\n",
       "      <td>geography'SRID=4326;POLYGON ((2.9997121758513 ...</td>\n",
       "      <td>{'type': 'Polygon', 'coordinates': [[[2.999712...</td>\n",
       "    </tr>\n",
       "    <tr>\n",
       "      <th>3</th>\n",
       "      <td>application/octet-stream</td>\n",
       "      <td>06734963-44cd-5b19-a36e-b265b7476b28</td>\n",
       "      <td>S2A_MSIL1C_20200101T105441_N0208_R051_T31UES_2...</td>\n",
       "      <td>application/octet-stream</td>\n",
       "      <td>0</td>\n",
       "      <td>2020-01-01T13:41:04.047Z</td>\n",
       "      <td>2020-01-01T21:07:13.822Z</td>\n",
       "      <td>2020-01-01T21:07:13.822Z</td>\n",
       "      <td>True</td>\n",
       "      <td></td>\n",
       "      <td>/eodata/Sentinel-2/MSI/L1C/2020/01/01/S2A_MSIL...</td>\n",
       "      <td>[]</td>\n",
       "      <td>{'Start': '2020-01-01T10:54:41.024Z', 'End': '...</td>\n",
       "      <td>geography'SRID=4326;POLYGON ((2.9997121758513 ...</td>\n",
       "      <td>{'type': 'Polygon', 'coordinates': [[[2.999712...</td>\n",
       "    </tr>\n",
       "    <tr>\n",
       "      <th>4</th>\n",
       "      <td>application/octet-stream</td>\n",
       "      <td>80f885e7-9851-541a-ab2e-eaa299d9df6c</td>\n",
       "      <td>S2A_MSIL2A_20200101T105441_N0213_R051_T31UFS_2...</td>\n",
       "      <td>application/octet-stream</td>\n",
       "      <td>0</td>\n",
       "      <td>2020-01-01T16:31:08.667Z</td>\n",
       "      <td>2020-01-01T21:12:20.373Z</td>\n",
       "      <td>2020-01-01T21:12:20.373Z</td>\n",
       "      <td>True</td>\n",
       "      <td></td>\n",
       "      <td>/eodata/Sentinel-2/MSI/L2A/2020/01/01/S2A_MSIL...</td>\n",
       "      <td>[]</td>\n",
       "      <td>{'Start': '2020-01-01T10:54:41.024Z', 'End': '...</td>\n",
       "      <td>geography'SRID=4326;POLYGON ((5.9651311350891 ...</td>\n",
       "      <td>{'type': 'Polygon', 'coordinates': [[[5.965131...</td>\n",
       "    </tr>\n",
       "    <tr>\n",
       "      <th>5</th>\n",
       "      <td>application/octet-stream</td>\n",
       "      <td>5e0689eb-2ef5-48ba-9fe4-5670d20a01f0</td>\n",
       "      <td>S2A_MSIL2A_20200101T105441_N0500_R051_T31UFS_2...</td>\n",
       "      <td>application/octet-stream</td>\n",
       "      <td>1156620310</td>\n",
       "      <td>2023-10-21T08:51:08.471Z</td>\n",
       "      <td>2023-10-21T21:57:20.835Z</td>\n",
       "      <td>2023-10-21T21:57:32.691Z</td>\n",
       "      <td>True</td>\n",
       "      <td></td>\n",
       "      <td>/eodata/Sentinel-2/MSI/L2A_N0500/2020/01/01/S2...</td>\n",
       "      <td>[{'Value': 'd7bec019c811f7af5b7a5b768fe0ea47',...</td>\n",
       "      <td>{'Start': '2020-01-01T10:54:41.024Z', 'End': '...</td>\n",
       "      <td>geography'SRID=4326;POLYGON ((5.96512849911278...</td>\n",
       "      <td>{'type': 'Polygon', 'coordinates': [[[5.965128...</td>\n",
       "    </tr>\n",
       "    <tr>\n",
       "      <th>6</th>\n",
       "      <td>application/octet-stream</td>\n",
       "      <td>15f7d4a0-529c-4dff-b318-6e6d249db131</td>\n",
       "      <td>S2A_MSIL1C_20200101T105441_N0500_R051_T31UFS_2...</td>\n",
       "      <td>application/octet-stream</td>\n",
       "      <td>855065216</td>\n",
       "      <td>2023-10-21T08:49:03.385Z</td>\n",
       "      <td>2023-10-21T21:51:36.615Z</td>\n",
       "      <td>2023-10-21T21:51:45.781Z</td>\n",
       "      <td>True</td>\n",
       "      <td></td>\n",
       "      <td>/eodata/Sentinel-2/MSI/L1C_N0500/2020/01/01/S2...</td>\n",
       "      <td>[{'Value': '06fc20e0bc9787259f699749f21b84ec',...</td>\n",
       "      <td>{'Start': '2020-01-01T10:54:41.024Z', 'End': '...</td>\n",
       "      <td>geography'SRID=4326;POLYGON ((5.96512849911278...</td>\n",
       "      <td>{'type': 'Polygon', 'coordinates': [[[5.965128...</td>\n",
       "    </tr>\n",
       "    <tr>\n",
       "      <th>7</th>\n",
       "      <td>application/octet-stream</td>\n",
       "      <td>bff7ae33-7a82-5251-bb1e-0607188c0a4f</td>\n",
       "      <td>S2A_MSIL1C_20200101T105441_N0208_R051_T31UFS_2...</td>\n",
       "      <td>application/octet-stream</td>\n",
       "      <td>0</td>\n",
       "      <td>2020-01-01T13:44:02.988Z</td>\n",
       "      <td>2020-01-01T21:08:01.995Z</td>\n",
       "      <td>2020-01-01T21:08:01.995Z</td>\n",
       "      <td>True</td>\n",
       "      <td></td>\n",
       "      <td>/eodata/Sentinel-2/MSI/L1C/2020/01/01/S2A_MSIL...</td>\n",
       "      <td>[]</td>\n",
       "      <td>{'Start': '2020-01-01T10:54:41.024Z', 'End': '...</td>\n",
       "      <td>geography'SRID=4326;POLYGON ((5.9651311350891 ...</td>\n",
       "      <td>{'type': 'Polygon', 'coordinates': [[[5.965131...</td>\n",
       "    </tr>\n",
       "    <tr>\n",
       "      <th>8</th>\n",
       "      <td>application/octet-stream</td>\n",
       "      <td>a73cee62-9333-569a-8516-7bcbb6c18884</td>\n",
       "      <td>S2A_MSIL2A_20200101T105441_N9999_R051_T31UFS_2...</td>\n",
       "      <td>application/octet-stream</td>\n",
       "      <td>1212591985</td>\n",
       "      <td>2022-09-27T01:21:18.170Z</td>\n",
       "      <td>2022-09-27T04:09:23.528Z</td>\n",
       "      <td>2022-11-14T03:53:49.298Z</td>\n",
       "      <td>True</td>\n",
       "      <td></td>\n",
       "      <td>/eodata/Sentinel-2/MSI/L2A/2020/01/01/S2A_MSIL...</td>\n",
       "      <td>[]</td>\n",
       "      <td>{'Start': '2020-01-01T10:54:41.024Z', 'End': '...</td>\n",
       "      <td>geography'SRID=4326;POLYGON ((5.96513113508908...</td>\n",
       "      <td>{'type': 'Polygon', 'coordinates': [[[5.965131...</td>\n",
       "    </tr>\n",
       "  </tbody>\n",
       "</table>\n",
       "</div>"
      ],
      "text/plain": [
       "    @odata.mediaContentType  ...                                       GeoFootprint\n",
       "0  application/octet-stream  ...  {'type': 'Polygon', 'coordinates': [[[2.999712...\n",
       "1  application/octet-stream  ...  {'type': 'Polygon', 'coordinates': [[[2.999712...\n",
       "2  application/octet-stream  ...  {'type': 'Polygon', 'coordinates': [[[2.999712...\n",
       "3  application/octet-stream  ...  {'type': 'Polygon', 'coordinates': [[[2.999712...\n",
       "4  application/octet-stream  ...  {'type': 'Polygon', 'coordinates': [[[5.965131...\n",
       "5  application/octet-stream  ...  {'type': 'Polygon', 'coordinates': [[[5.965128...\n",
       "6  application/octet-stream  ...  {'type': 'Polygon', 'coordinates': [[[5.965128...\n",
       "7  application/octet-stream  ...  {'type': 'Polygon', 'coordinates': [[[5.965131...\n",
       "8  application/octet-stream  ...  {'type': 'Polygon', 'coordinates': [[[5.965131...\n",
       "\n",
       "[9 rows x 15 columns]"
      ]
     },
     "execution_count": 34,
     "metadata": {},
     "output_type": "execute_result"
    }
   ],
   "source": [
    "aoi = \"POLYGON((4.220581 50.958859,4.521264 50.953236,4.545977 50.906064,4.541858 50.802029,4.489685 50.763825,4.23843 50.767734,4.192435 50.806369,4.189689 50.907363,4.220581 50.958859))\"\n",
    "\n",
    "client.search(\"2020-01-01\", \"2020-01-02\", \"SENTINEL-2\", aoi)"
   ]
  },
  {
   "cell_type": "code",
   "execution_count": 35,
   "metadata": {},
   "outputs": [],
   "source": [
    "string =\"filter=Collection/Name eq SENTINEL-2 and ContentDate/Start gt 2020-01-01T00:00:00.000Z and ContentDate/Start lt 2020-01-02T00:00:00.000Z and OData.CSC.Intersects(area=geography'SRID=4326;POLYGON((4.220581 50.958859,4.521264 50.953236,4.545977 50.906064,4.541858 50.802029,4.489685 50.763825,4.23843 50.767734,4.192435 50.806369,4.189689 50.907363,4.220581 50.958859))')\""
   ]
  },
  {
   "cell_type": "code",
   "execution_count": 36,
   "metadata": {},
   "outputs": [
    {
     "data": {
      "text/plain": [
       "\"ENTINEL-2 and ContentDate/Start gt 2020-01-01T00:00:00.000Z and ContentDate/Start lt 2020-01-02T00:00:00.000Z and OData.CSC.Intersects(area=geography'SRID=4326;POLYGON((4.220581 50.958859,4.521264 50.953236,4.545977 50.906064,4.541858 50.802029,4.489685 50.763825,4.23843 50.767734,4.192435 50.806369,4.189689 50.907363,4.220581 50.958859))')\""
      ]
     },
     "execution_count": 36,
     "metadata": {},
     "output_type": "execute_result"
    }
   ],
   "source": [
    "string[27:]"
   ]
  },
  {
   "cell_type": "code",
   "execution_count": null,
   "metadata": {},
   "outputs": [],
   "source": []
  }
 ],
 "metadata": {
  "kernelspec": {
   "display_name": "venv",
   "language": "python",
   "name": "python3"
  },
  "language_info": {
   "codemirror_mode": {
    "name": "ipython",
    "version": 3
   },
   "file_extension": ".py",
   "mimetype": "text/x-python",
   "name": "python",
   "nbconvert_exporter": "python",
   "pygments_lexer": "ipython3",
   "version": "3.11.4"
  }
 },
 "nbformat": 4,
 "nbformat_minor": 2
}
