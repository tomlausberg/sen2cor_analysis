{
 "cells": [
  {
   "cell_type": "code",
   "execution_count": 7,
   "metadata": {},
   "outputs": [],
   "source": [
    "%load_ext autoreload\n",
    "%autoreload 2\n",
    "\n",
    "import pickle\n",
    "from pathlib import Path\n",
    "from building_dection import SN7_Location\n",
    "import numpy as np"
   ]
  },
  {
   "cell_type": "code",
   "execution_count": 8,
   "metadata": {},
   "outputs": [],
   "source": [
    "sn7_pickle_file = Path('../outputs/sn7_locations.pkl')\n",
    "sn7_locations = pickle.load(open(sn7_pickle_file, 'rb'))"
   ]
  },
  {
   "cell_type": "code",
   "execution_count": 9,
   "metadata": {},
   "outputs": [
    {
     "data": {
      "text/plain": [
       "'0331E'"
      ]
     },
     "execution_count": 9,
     "metadata": {},
     "output_type": "execute_result"
    }
   ],
   "source": [
    "sn7_locations[0].path.name"
   ]
  },
  {
   "cell_type": "code",
   "execution_count": 10,
   "metadata": {},
   "outputs": [],
   "source": [
    "X_bands = [\n",
    "    'B02',\n",
    "    'B03',\n",
    "    'B04',\n",
    "]\n",
    "\n",
    "data_points_per_location = 100\n",
    "\n",
    "X = np.zeros((len(sn7_locations) * data_points_per_location, len(X_bands)))\n",
    "y = np.zeros((len(sn7_locations) * data_points_per_location, 1))"
   ]
  },
  {
   "cell_type": "code",
   "execution_count": 11,
   "metadata": {},
   "outputs": [
    {
     "ename": "SyntaxError",
     "evalue": "invalid syntax (1243031012.py, line 3)",
     "output_type": "error",
     "traceback": [
      "\u001b[1;36m  Cell \u001b[1;32mIn[11], line 3\u001b[1;36m\u001b[0m\n\u001b[1;33m    for\u001b[0m\n\u001b[1;37m        ^\u001b[0m\n\u001b[1;31mSyntaxError\u001b[0m\u001b[1;31m:\u001b[0m invalid syntax\n"
     ]
    }
   ],
   "source": [
    "for location in sn7_locations:\n",
    "\n",
    "    building_points = np.zeros((data_points_per_location/2, 2))\n",
    "    non_building_points = np.zeros((data_points_per_location/2, 2))\n",
    "    # TODO building_points = sn7_loc.get_random_points(50)\n",
    "    # TODO non_building_points = sn7_loc.get_random_points(50)\n",
    "\n",
    "    for band in X_bands:\n",
    "        # TODO X[location_index, band_index] = sn7_loc.get_band_value(band, building_points)\n",
    "        # TODO X[location_index, band_index] = sn7_loc.get_band_value(band, non_building_points)\n",
    "        pass\n",
    "\n",
    "    \n",
    "    \n",
    "\n"
   ]
  }
 ],
 "metadata": {
  "kernelspec": {
   "display_name": "venv",
   "language": "python",
   "name": "python3"
  },
  "language_info": {
   "codemirror_mode": {
    "name": "ipython",
    "version": 3
   },
   "file_extension": ".py",
   "mimetype": "text/x-python",
   "name": "python",
   "nbconvert_exporter": "python",
   "pygments_lexer": "ipython3",
   "version": "3.11.4"
  }
 },
 "nbformat": 4,
 "nbformat_minor": 2
}
