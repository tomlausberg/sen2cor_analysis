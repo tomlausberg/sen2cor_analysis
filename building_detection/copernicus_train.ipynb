{
 "cells": [
  {
   "cell_type": "code",
   "execution_count": 2,
   "metadata": {},
   "outputs": [],
   "source": [
    "%load_ext autoreload\n",
    "%autoreload 2\n",
    "\n",
    "import sys\n",
    "sys.path.append(\"..\")\n",
    "\n",
    "import os\n",
    "import pickle\n",
    "import numpy as np\n",
    "from pathlib import Path\n",
    "import matplotlib.pyplot as plt\n",
    "from sklearn import svm\n",
    "from sklearn import metrics\n",
    "from sklearn.model_selection import train_test_split, GridSearchCV\n",
    "import joblib\n",
    "\n",
    "from building_dection import SN7_Location, create_dataset"
   ]
  },
  {
   "cell_type": "code",
   "execution_count": 3,
   "metadata": {},
   "outputs": [],
   "source": [
    "#sn7_locations are created in the notebook coperinicus_dataset.ipynb\n",
    "sn7_pickle_file = Path('../outputs/sn7_locations.pkl')\n",
    "sn7_locations = pickle.load(open(sn7_pickle_file, 'rb'))"
   ]
  },
  {
   "cell_type": "code",
   "execution_count": 4,
   "metadata": {},
   "outputs": [],
   "source": [
    "number_of_samples = 5000\n",
    "ratio = 0.5\n",
    "mod = 'reference'\n",
    "ref_dataset = create_dataset(sn7_locations, number_of_samples, ratio, mod)"
   ]
  },
  {
   "cell_type": "code",
   "execution_count": 5,
   "metadata": {},
   "outputs": [],
   "source": [
    "y = ref_dataset[:,0]\n",
    "x = ref_dataset[:,1:]"
   ]
  },
  {
   "cell_type": "code",
   "execution_count": 6,
   "metadata": {},
   "outputs": [],
   "source": [
    "X_train, X_test, y_train, y_test = train_test_split(x, y, test_size=0.2, random_state=42)"
   ]
  },
  {
   "cell_type": "code",
   "execution_count": 7,
   "metadata": {},
   "outputs": [
    {
     "name": "stdout",
     "output_type": "stream",
     "text": [
      "image_dataset shape: (4992, 13)\n",
      "labels_dataset shape: (4992,)\n",
      "X_train shape: (3993, 13)\n",
      "X_test shape: (999, 13)\n",
      "y_train shape: (3993,)\n",
      "y_test shape: (999,)\n"
     ]
    }
   ],
   "source": [
    "# print info about image_dataset, labels_dataset, X_train, X_test, y_train, y_test\n",
    "print(\"image_dataset shape:\", x.shape)\n",
    "print(\"labels_dataset shape:\", y.shape)\n",
    "print(\"X_train shape:\", X_train.shape)\n",
    "print(\"X_test shape:\", X_test.shape)\n",
    "print(\"y_train shape:\", y_train.shape)\n",
    "print(\"y_test shape:\", y_test.shape)\n"
   ]
  },
  {
   "cell_type": "code",
   "execution_count": null,
   "metadata": {},
   "outputs": [
    {
     "name": "stdout",
     "output_type": "stream",
     "text": [
      "Coefficients: \n",
      " [[-0.02286556 -0.05713922  0.28441025 -0.06736528  0.55203204  0.05402422\n",
      "  -0.16115105  0.12922268  0.08976164 -0.13388301 -0.18431858  0.11499543\n",
      "  -5.63564312]]\n",
      "Mean squared error: 0.28\n"
     ]
    }
   ],
   "source": [
    "from sklearn.linear_model import LinearRegression\n",
    "from sklearn import svm\n",
    "from sklearn import metrics\n",
    "\n",
    "\n",
    "model = svm.SVC(kernel='linear') \n",
    "\n",
    "model.fit(X_train, y_train)\n",
    "y_pred = model.predict(X_test)\n",
    "\n",
    "# Print the coefficients\n",
    "print('Coefficients: \\n', model.coef_)\n",
    "\n",
    "# Print the mean squared error\n",
    "print('Mean squared error: %.2f' % metrics.mean_squared_error(y_test, y_pred))"
   ]
  },
  {
   "cell_type": "code",
   "execution_count": 10,
   "metadata": {},
   "outputs": [
    {
     "name": "stdout",
     "output_type": "stream",
     "text": [
      "image_dataset shape: (4992, 13)\n",
      "labels_dataset shape: (4992,)\n",
      "X_train shape: (3993, 13)\n",
      "X_test shape: (999, 13)\n",
      "y_train shape: (3993,)\n",
      "y_test shape: (999,)\n",
      "Coefficients: \n",
      " [[ 1.76589726e-02 -4.83789367e-02  3.19747349e-01 -9.31282446e-02\n",
      "   2.37542164e+00  0.00000000e+00 -2.88889566e-01  2.42751502e-01\n",
      "   8.20203675e-02 -1.83166683e-01 -6.34996513e-02  3.12347456e-02\n",
      "  -1.78275311e+01]]\n",
      "Mean squared error: 0.30\n"
     ]
    }
   ],
   "source": [
    "number_of_samples = 5000\n",
    "ratio = 0.5\n",
    "mod = 'FLAG_WV_OFF'\n",
    "wv_dataset = create_dataset(sn7_locations, number_of_samples, ratio, mod)\n",
    "y = wv_dataset[:,0]\n",
    "x = wv_dataset[:,1:]\n",
    "X_train, X_test, y_train, y_test = train_test_split(x, y, test_size=0.2, random_state=42)\n",
    "# print info about image_dataset, labels_dataset, X_train, X_test, y_train, y_test\n",
    "print(\"image_dataset shape:\", x.shape)\n",
    "print(\"labels_dataset shape:\", y.shape)\n",
    "print(\"X_train shape:\", X_train.shape)\n",
    "print(\"X_test shape:\", X_test.shape)\n",
    "print(\"y_train shape:\", y_train.shape)\n",
    "print(\"y_test shape:\", y_test.shape)\n",
    "\n",
    "\n",
    "model = svm.SVC(kernel='linear') \n",
    "\n",
    "model.fit(X_train, y_train)\n",
    "y_pred = model.predict(X_test)\n",
    "\n",
    "# Print the coefficients\n",
    "print('Coefficients: \\n', model.coef_)\n",
    "\n",
    "# Print the mean squared error\n",
    "print('Mean squared error: %.2f' % metrics.mean_squared_error(y_test, y_pred))"
   ]
  },
  {
   "cell_type": "code",
   "execution_count": 11,
   "metadata": {},
   "outputs": [
    {
     "data": {
      "text/html": [
       "<style>#sk-container-id-1 {color: black;}#sk-container-id-1 pre{padding: 0;}#sk-container-id-1 div.sk-toggleable {background-color: white;}#sk-container-id-1 label.sk-toggleable__label {cursor: pointer;display: block;width: 100%;margin-bottom: 0;padding: 0.3em;box-sizing: border-box;text-align: center;}#sk-container-id-1 label.sk-toggleable__label-arrow:before {content: \"▸\";float: left;margin-right: 0.25em;color: #696969;}#sk-container-id-1 label.sk-toggleable__label-arrow:hover:before {color: black;}#sk-container-id-1 div.sk-estimator:hover label.sk-toggleable__label-arrow:before {color: black;}#sk-container-id-1 div.sk-toggleable__content {max-height: 0;max-width: 0;overflow: hidden;text-align: left;background-color: #f0f8ff;}#sk-container-id-1 div.sk-toggleable__content pre {margin: 0.2em;color: black;border-radius: 0.25em;background-color: #f0f8ff;}#sk-container-id-1 input.sk-toggleable__control:checked~div.sk-toggleable__content {max-height: 200px;max-width: 100%;overflow: auto;}#sk-container-id-1 input.sk-toggleable__control:checked~label.sk-toggleable__label-arrow:before {content: \"▾\";}#sk-container-id-1 div.sk-estimator input.sk-toggleable__control:checked~label.sk-toggleable__label {background-color: #d4ebff;}#sk-container-id-1 div.sk-label input.sk-toggleable__control:checked~label.sk-toggleable__label {background-color: #d4ebff;}#sk-container-id-1 input.sk-hidden--visually {border: 0;clip: rect(1px 1px 1px 1px);clip: rect(1px, 1px, 1px, 1px);height: 1px;margin: -1px;overflow: hidden;padding: 0;position: absolute;width: 1px;}#sk-container-id-1 div.sk-estimator {font-family: monospace;background-color: #f0f8ff;border: 1px dotted black;border-radius: 0.25em;box-sizing: border-box;margin-bottom: 0.5em;}#sk-container-id-1 div.sk-estimator:hover {background-color: #d4ebff;}#sk-container-id-1 div.sk-parallel-item::after {content: \"\";width: 100%;border-bottom: 1px solid gray;flex-grow: 1;}#sk-container-id-1 div.sk-label:hover label.sk-toggleable__label {background-color: #d4ebff;}#sk-container-id-1 div.sk-serial::before {content: \"\";position: absolute;border-left: 1px solid gray;box-sizing: border-box;top: 0;bottom: 0;left: 50%;z-index: 0;}#sk-container-id-1 div.sk-serial {display: flex;flex-direction: column;align-items: center;background-color: white;padding-right: 0.2em;padding-left: 0.2em;position: relative;}#sk-container-id-1 div.sk-item {position: relative;z-index: 1;}#sk-container-id-1 div.sk-parallel {display: flex;align-items: stretch;justify-content: center;background-color: white;position: relative;}#sk-container-id-1 div.sk-item::before, #sk-container-id-1 div.sk-parallel-item::before {content: \"\";position: absolute;border-left: 1px solid gray;box-sizing: border-box;top: 0;bottom: 0;left: 50%;z-index: -1;}#sk-container-id-1 div.sk-parallel-item {display: flex;flex-direction: column;z-index: 1;position: relative;background-color: white;}#sk-container-id-1 div.sk-parallel-item:first-child::after {align-self: flex-end;width: 50%;}#sk-container-id-1 div.sk-parallel-item:last-child::after {align-self: flex-start;width: 50%;}#sk-container-id-1 div.sk-parallel-item:only-child::after {width: 0;}#sk-container-id-1 div.sk-dashed-wrapped {border: 1px dashed gray;margin: 0 0.4em 0.5em 0.4em;box-sizing: border-box;padding-bottom: 0.4em;background-color: white;}#sk-container-id-1 div.sk-label label {font-family: monospace;font-weight: bold;display: inline-block;line-height: 1.2em;}#sk-container-id-1 div.sk-label-container {text-align: center;}#sk-container-id-1 div.sk-container {/* jupyter's `normalize.less` sets `[hidden] { display: none; }` but bootstrap.min.css set `[hidden] { display: none !important; }` so we also need the `!important` here to be able to override the default hidden behavior on the sphinx rendered scikit-learn.org. See: https://github.com/scikit-learn/scikit-learn/issues/21755 */display: inline-block !important;position: relative;}#sk-container-id-1 div.sk-text-repr-fallback {display: none;}</style><div id=\"sk-container-id-1\" class=\"sk-top-container\"><div class=\"sk-text-repr-fallback\"><pre>GridSearchCV(estimator=SVC(),\n",
       "             param_grid={&#x27;C&#x27;: [1, 10], &#x27;kernel&#x27;: (&#x27;linear&#x27;, &#x27;rbf&#x27;)})</pre><b>In a Jupyter environment, please rerun this cell to show the HTML representation or trust the notebook. <br />On GitHub, the HTML representation is unable to render, please try loading this page with nbviewer.org.</b></div><div class=\"sk-container\" hidden><div class=\"sk-item sk-dashed-wrapped\"><div class=\"sk-label-container\"><div class=\"sk-label sk-toggleable\"><input class=\"sk-toggleable__control sk-hidden--visually\" id=\"sk-estimator-id-1\" type=\"checkbox\" ><label for=\"sk-estimator-id-1\" class=\"sk-toggleable__label sk-toggleable__label-arrow\">GridSearchCV</label><div class=\"sk-toggleable__content\"><pre>GridSearchCV(estimator=SVC(),\n",
       "             param_grid={&#x27;C&#x27;: [1, 10], &#x27;kernel&#x27;: (&#x27;linear&#x27;, &#x27;rbf&#x27;)})</pre></div></div></div><div class=\"sk-parallel\"><div class=\"sk-parallel-item\"><div class=\"sk-item\"><div class=\"sk-label-container\"><div class=\"sk-label sk-toggleable\"><input class=\"sk-toggleable__control sk-hidden--visually\" id=\"sk-estimator-id-2\" type=\"checkbox\" ><label for=\"sk-estimator-id-2\" class=\"sk-toggleable__label sk-toggleable__label-arrow\">estimator: SVC</label><div class=\"sk-toggleable__content\"><pre>SVC()</pre></div></div></div><div class=\"sk-serial\"><div class=\"sk-item\"><div class=\"sk-estimator sk-toggleable\"><input class=\"sk-toggleable__control sk-hidden--visually\" id=\"sk-estimator-id-3\" type=\"checkbox\" ><label for=\"sk-estimator-id-3\" class=\"sk-toggleable__label sk-toggleable__label-arrow\">SVC</label><div class=\"sk-toggleable__content\"><pre>SVC()</pre></div></div></div></div></div></div></div></div></div></div>"
      ],
      "text/plain": [
       "GridSearchCV(estimator=SVC(),\n",
       "             param_grid={'C': [1, 10], 'kernel': ('linear', 'rbf')})"
      ]
     },
     "execution_count": 11,
     "metadata": {},
     "output_type": "execute_result"
    }
   ],
   "source": [
    "parametres = {'kernel':('linear', 'rbf'), 'C':[1, 10]}\n",
    "model = svm.SVC()\n",
    "clf = GridSearchCV(model, parametres)\n",
    "clf.fit(X_train, y_train)"
   ]
  },
  {
   "cell_type": "code",
   "execution_count": 12,
   "metadata": {},
   "outputs": [
    {
     "data": {
      "text/html": [
       "<style>#sk-container-id-2 {color: black;}#sk-container-id-2 pre{padding: 0;}#sk-container-id-2 div.sk-toggleable {background-color: white;}#sk-container-id-2 label.sk-toggleable__label {cursor: pointer;display: block;width: 100%;margin-bottom: 0;padding: 0.3em;box-sizing: border-box;text-align: center;}#sk-container-id-2 label.sk-toggleable__label-arrow:before {content: \"▸\";float: left;margin-right: 0.25em;color: #696969;}#sk-container-id-2 label.sk-toggleable__label-arrow:hover:before {color: black;}#sk-container-id-2 div.sk-estimator:hover label.sk-toggleable__label-arrow:before {color: black;}#sk-container-id-2 div.sk-toggleable__content {max-height: 0;max-width: 0;overflow: hidden;text-align: left;background-color: #f0f8ff;}#sk-container-id-2 div.sk-toggleable__content pre {margin: 0.2em;color: black;border-radius: 0.25em;background-color: #f0f8ff;}#sk-container-id-2 input.sk-toggleable__control:checked~div.sk-toggleable__content {max-height: 200px;max-width: 100%;overflow: auto;}#sk-container-id-2 input.sk-toggleable__control:checked~label.sk-toggleable__label-arrow:before {content: \"▾\";}#sk-container-id-2 div.sk-estimator input.sk-toggleable__control:checked~label.sk-toggleable__label {background-color: #d4ebff;}#sk-container-id-2 div.sk-label input.sk-toggleable__control:checked~label.sk-toggleable__label {background-color: #d4ebff;}#sk-container-id-2 input.sk-hidden--visually {border: 0;clip: rect(1px 1px 1px 1px);clip: rect(1px, 1px, 1px, 1px);height: 1px;margin: -1px;overflow: hidden;padding: 0;position: absolute;width: 1px;}#sk-container-id-2 div.sk-estimator {font-family: monospace;background-color: #f0f8ff;border: 1px dotted black;border-radius: 0.25em;box-sizing: border-box;margin-bottom: 0.5em;}#sk-container-id-2 div.sk-estimator:hover {background-color: #d4ebff;}#sk-container-id-2 div.sk-parallel-item::after {content: \"\";width: 100%;border-bottom: 1px solid gray;flex-grow: 1;}#sk-container-id-2 div.sk-label:hover label.sk-toggleable__label {background-color: #d4ebff;}#sk-container-id-2 div.sk-serial::before {content: \"\";position: absolute;border-left: 1px solid gray;box-sizing: border-box;top: 0;bottom: 0;left: 50%;z-index: 0;}#sk-container-id-2 div.sk-serial {display: flex;flex-direction: column;align-items: center;background-color: white;padding-right: 0.2em;padding-left: 0.2em;position: relative;}#sk-container-id-2 div.sk-item {position: relative;z-index: 1;}#sk-container-id-2 div.sk-parallel {display: flex;align-items: stretch;justify-content: center;background-color: white;position: relative;}#sk-container-id-2 div.sk-item::before, #sk-container-id-2 div.sk-parallel-item::before {content: \"\";position: absolute;border-left: 1px solid gray;box-sizing: border-box;top: 0;bottom: 0;left: 50%;z-index: -1;}#sk-container-id-2 div.sk-parallel-item {display: flex;flex-direction: column;z-index: 1;position: relative;background-color: white;}#sk-container-id-2 div.sk-parallel-item:first-child::after {align-self: flex-end;width: 50%;}#sk-container-id-2 div.sk-parallel-item:last-child::after {align-self: flex-start;width: 50%;}#sk-container-id-2 div.sk-parallel-item:only-child::after {width: 0;}#sk-container-id-2 div.sk-dashed-wrapped {border: 1px dashed gray;margin: 0 0.4em 0.5em 0.4em;box-sizing: border-box;padding-bottom: 0.4em;background-color: white;}#sk-container-id-2 div.sk-label label {font-family: monospace;font-weight: bold;display: inline-block;line-height: 1.2em;}#sk-container-id-2 div.sk-label-container {text-align: center;}#sk-container-id-2 div.sk-container {/* jupyter's `normalize.less` sets `[hidden] { display: none; }` but bootstrap.min.css set `[hidden] { display: none !important; }` so we also need the `!important` here to be able to override the default hidden behavior on the sphinx rendered scikit-learn.org. See: https://github.com/scikit-learn/scikit-learn/issues/21755 */display: inline-block !important;position: relative;}#sk-container-id-2 div.sk-text-repr-fallback {display: none;}</style><div id=\"sk-container-id-2\" class=\"sk-top-container\"><div class=\"sk-text-repr-fallback\"><pre>GridSearchCV(estimator=SVC(),\n",
       "             param_grid={&#x27;C&#x27;: [1, 10], &#x27;kernel&#x27;: (&#x27;linear&#x27;, &#x27;rbf&#x27;)})</pre><b>In a Jupyter environment, please rerun this cell to show the HTML representation or trust the notebook. <br />On GitHub, the HTML representation is unable to render, please try loading this page with nbviewer.org.</b></div><div class=\"sk-container\" hidden><div class=\"sk-item sk-dashed-wrapped\"><div class=\"sk-label-container\"><div class=\"sk-label sk-toggleable\"><input class=\"sk-toggleable__control sk-hidden--visually\" id=\"sk-estimator-id-4\" type=\"checkbox\" ><label for=\"sk-estimator-id-4\" class=\"sk-toggleable__label sk-toggleable__label-arrow\">GridSearchCV</label><div class=\"sk-toggleable__content\"><pre>GridSearchCV(estimator=SVC(),\n",
       "             param_grid={&#x27;C&#x27;: [1, 10], &#x27;kernel&#x27;: (&#x27;linear&#x27;, &#x27;rbf&#x27;)})</pre></div></div></div><div class=\"sk-parallel\"><div class=\"sk-parallel-item\"><div class=\"sk-item\"><div class=\"sk-label-container\"><div class=\"sk-label sk-toggleable\"><input class=\"sk-toggleable__control sk-hidden--visually\" id=\"sk-estimator-id-5\" type=\"checkbox\" ><label for=\"sk-estimator-id-5\" class=\"sk-toggleable__label sk-toggleable__label-arrow\">estimator: SVC</label><div class=\"sk-toggleable__content\"><pre>SVC()</pre></div></div></div><div class=\"sk-serial\"><div class=\"sk-item\"><div class=\"sk-estimator sk-toggleable\"><input class=\"sk-toggleable__control sk-hidden--visually\" id=\"sk-estimator-id-6\" type=\"checkbox\" ><label for=\"sk-estimator-id-6\" class=\"sk-toggleable__label sk-toggleable__label-arrow\">SVC</label><div class=\"sk-toggleable__content\"><pre>SVC()</pre></div></div></div></div></div></div></div></div></div></div>"
      ],
      "text/plain": [
       "GridSearchCV(estimator=SVC(),\n",
       "             param_grid={'C': [1, 10], 'kernel': ('linear', 'rbf')})"
      ]
     },
     "execution_count": 12,
     "metadata": {},
     "output_type": "execute_result"
    }
   ],
   "source": [
    "y = ref_dataset[:,0]\n",
    "x = ref_dataset[:,1:]\n",
    "X_train, X_test, y_train, y_test = train_test_split(x, y, test_size=0.2, random_state=42)\n",
    "\n",
    "model = svm.SVC()\n",
    "clf_ref = GridSearchCV(model, parametres)\n",
    "clf_ref.fit(X_train, y_train)"
   ]
  },
  {
   "cell_type": "code",
   "execution_count": 16,
   "metadata": {},
   "outputs": [
    {
     "name": "stdout",
     "output_type": "stream",
     "text": [
      "Mean squared error: 0.23\n",
      "{'C': 10, 'kernel': 'rbf'}\n"
     ]
    }
   ],
   "source": [
    "# get predictions with the best model\n",
    "y_pred = clf_ref.predict(X_test)\n",
    "print('Mean squared error: %.2f' % metrics.mean_squared_error(y_test, y_pred))\n",
    "# get best parameters\n",
    "print(clf_ref.best_params_)"
   ]
  },
  {
   "cell_type": "code",
   "execution_count": 17,
   "metadata": {},
   "outputs": [
    {
     "name": "stdout",
     "output_type": "stream",
     "text": [
      "Mean squared error: 0.29\n",
      "{'C': 10, 'kernel': 'rbf'}\n"
     ]
    }
   ],
   "source": [
    "y = wv_dataset[:,0]\n",
    "x = wv_dataset[:,1:]\n",
    "X_train, X_test, y_train, y_test = train_test_split(x, y, test_size=0.2, random_state=42)\n",
    "y_pred = clf.predict(X_test)\n",
    "print('Mean squared error: %.2f' % metrics.mean_squared_error(y_test, y_pred))\n",
    "print(clf.best_params_)"
   ]
  },
  {
   "cell_type": "code",
   "execution_count": 10,
   "metadata": {},
   "outputs": [],
   "source": [
    "y = ref_dataset[:,0]\n",
    "x = ref_dataset[:,1:]\n",
    "X_train, X_test, y_train, y_test = train_test_split(x, y, test_size=0.2, random_state=42)"
   ]
  },
  {
   "cell_type": "code",
   "execution_count": 11,
   "metadata": {},
   "outputs": [],
   "source": [
    "param_grid = {\n",
    "    \"C\": [1, 10, 100,1000],\n",
    "    \"kernel\": [\"linear\", \"rbf\", \"poly\"],\n",
    "    \"gamma\": [\"scale\", \"auto\", 0.1, 1],\n",
    "    \"degree\": [2, 3, 4],\n",
    "}\n",
    "\n",
    "\n",
    "svc_model = svm.SVC()\n",
    "grid_search = GridSearchCV(estimator=svc_model, param_grid=param_grid, scoring='accuracy', cv=5)\n",
    "\n",
    "grid_search.fit(X_train, y_train)\n",
    "print(grid_search.best_params_)\n",
    "print(grid_search.best_score_)\n",
    "print(grid_search.best_estimator_)\n",
    "print(grid_search.cv_results_)\n",
    "print(grid_search.scorer_)\n",
    "print(grid_search.n_splits_)\n",
    "print(grid_search.refit_time_)\n",
    "\n"
   ]
  },
  {
   "cell_type": "code",
   "execution_count": 8,
   "metadata": {},
   "outputs": [
    {
     "name": "stdout",
     "output_type": "stream",
     "text": [
      "{'C': 100, 'gamma': 'scale', 'kernel': 'rbf'}\n",
      "0.7625879467128396\n",
      "SVC(C=100)\n",
      "{'mean_fit_time': array([0.34550428, 0.86336966, 0.85533543, 0.8634851 , 0.34266381,\n",
      "       0.90026627, 0.90309138, 0.87988462, 0.4069695 , 0.88133535,\n",
      "       0.88281956, 0.87520638]), 'std_fit_time': array([0.00456633, 0.01409817, 0.00338209, 0.01198132, 0.01288812,\n",
      "       0.02311222, 0.00895192, 0.00347571, 0.00579808, 0.00252783,\n",
      "       0.00694185, 0.00962413]), 'mean_score_time': array([0.17366953, 0.35249848, 0.35366268, 0.3536139 , 0.15938373,\n",
      "       0.36323729, 0.35092821, 0.3529758 , 0.14679952, 0.34889121,\n",
      "       0.35095835, 0.34925508]), 'std_score_time': array([0.00420795, 0.00174326, 0.00402229, 0.00182267, 0.00515207,\n",
      "       0.02340369, 0.00388378, 0.00286318, 0.0035537 , 0.00328341,\n",
      "       0.00217384, 0.00286629]), 'param_C': masked_array(data=[1, 1, 1, 1, 10, 10, 10, 10, 100, 100, 100, 100],\n",
      "             mask=[False, False, False, False, False, False, False, False,\n",
      "                   False, False, False, False],\n",
      "       fill_value='?',\n",
      "            dtype=object), 'param_gamma': masked_array(data=['scale', 'auto', 0.1, 1, 'scale', 'auto', 0.1, 1,\n",
      "                   'scale', 'auto', 0.1, 1],\n",
      "             mask=[False, False, False, False, False, False, False, False,\n",
      "                   False, False, False, False],\n",
      "       fill_value='?',\n",
      "            dtype=object), 'param_kernel': masked_array(data=['rbf', 'rbf', 'rbf', 'rbf', 'rbf', 'rbf', 'rbf', 'rbf',\n",
      "                   'rbf', 'rbf', 'rbf', 'rbf'],\n",
      "             mask=[False, False, False, False, False, False, False, False,\n",
      "                   False, False, False, False],\n",
      "       fill_value='?',\n",
      "            dtype=object), 'params': [{'C': 1, 'gamma': 'scale', 'kernel': 'rbf'}, {'C': 1, 'gamma': 'auto', 'kernel': 'rbf'}, {'C': 1, 'gamma': 0.1, 'kernel': 'rbf'}, {'C': 1, 'gamma': 1, 'kernel': 'rbf'}, {'C': 10, 'gamma': 'scale', 'kernel': 'rbf'}, {'C': 10, 'gamma': 'auto', 'kernel': 'rbf'}, {'C': 10, 'gamma': 0.1, 'kernel': 'rbf'}, {'C': 10, 'gamma': 1, 'kernel': 'rbf'}, {'C': 100, 'gamma': 'scale', 'kernel': 'rbf'}, {'C': 100, 'gamma': 'auto', 'kernel': 'rbf'}, {'C': 100, 'gamma': 0.1, 'kernel': 'rbf'}, {'C': 100, 'gamma': 1, 'kernel': 'rbf'}], 'split0_test_score': array([0.718398  , 0.51314143, 0.51314143, 0.51314143, 0.74342929,\n",
      "       0.51314143, 0.51314143, 0.51314143, 0.7571965 , 0.51314143,\n",
      "       0.51314143, 0.51314143]), 'split1_test_score': array([0.73466834, 0.52440551, 0.52440551, 0.52440551, 0.73967459,\n",
      "       0.52440551, 0.52440551, 0.52440551, 0.76595745, 0.52440551,\n",
      "       0.52440551, 0.52440551]), 'split2_test_score': array([0.72215269, 0.51314143, 0.51314143, 0.51314143, 0.75093867,\n",
      "       0.51314143, 0.51314143, 0.51314143, 0.75093867, 0.51314143,\n",
      "       0.51314143, 0.51314143]), 'split3_test_score': array([0.72681704, 0.52380952, 0.52380952, 0.52380952, 0.75438596,\n",
      "       0.52380952, 0.52380952, 0.52380952, 0.77192982, 0.52380952,\n",
      "       0.52380952, 0.52380952]), 'split4_test_score': array([0.73684211, 0.52130326, 0.52130326, 0.52130326, 0.74937343,\n",
      "       0.52130326, 0.52130326, 0.52130326, 0.76691729, 0.52130326,\n",
      "       0.52130326, 0.52130326]), 'mean_test_score': array([0.72777563, 0.51916023, 0.51916023, 0.51916023, 0.74756039,\n",
      "       0.51916023, 0.51916023, 0.51916023, 0.76258795, 0.51916023,\n",
      "       0.51916023, 0.51916023]), 'std_test_score': array([0.00707371, 0.00502341, 0.00502341, 0.00502341, 0.0053017 ,\n",
      "       0.00502341, 0.00502341, 0.00502341, 0.00751187, 0.00502341,\n",
      "       0.00502341, 0.00502341]), 'rank_test_score': array([3, 4, 4, 4, 2, 4, 4, 4, 1, 4, 4, 4])}\n",
      "make_scorer(accuracy_score)\n",
      "5\n",
      "0.6449258327484131\n"
     ]
    }
   ],
   "source": [
    "param_grid = {\n",
    "    \"C\": [1, 10, 100],\n",
    "    \"kernel\": [\"rbf\"],\n",
    "    \"gamma\": [\"scale\", \"auto\", 0.1, 1],\n",
    "}\n",
    "\n",
    "\n",
    "svc_model = svm.SVC()\n",
    "grid_search_rbf = GridSearchCV(estimator=svc_model, param_grid=param_grid, scoring='accuracy', cv=5)\n",
    "\n",
    "grid_search_rbf.fit(X_train, y_train)\n",
    "print(grid_search_rbf.best_params_)\n",
    "print(grid_search_rbf.best_score_)\n",
    "print(grid_search_rbf.best_estimator_)\n",
    "print(grid_search_rbf.cv_results_)\n",
    "print(grid_search_rbf.scorer_)\n",
    "print(grid_search_rbf.n_splits_)\n",
    "print(grid_search_rbf.refit_time_)\n"
   ]
  },
  {
   "cell_type": "code",
   "execution_count": 10,
   "metadata": {},
   "outputs": [
    {
     "data": {
      "text/plain": [
       "['../outputs/grid_search_rbf.sav']"
      ]
     },
     "execution_count": 10,
     "metadata": {},
     "output_type": "execute_result"
    }
   ],
   "source": [
    "# save the grid search model to disk\n",
    "joblib.dump(grid_search_rbf, \"../outputs/grid_search_rbf.sav\")"
   ]
  },
  {
   "cell_type": "code",
   "execution_count": 19,
   "metadata": {},
   "outputs": [
    {
     "name": "stdout",
     "output_type": "stream",
     "text": [
      "reference (9996, 14)\n",
      "class_VEGETATION (9996, 14)\n",
      "class_NO_DATA (9996, 14)\n",
      "class_CLOUD_HIGH_PROBABILITY (9996, 14)\n",
      "FLAG_WV_OFF (9996, 14)\n",
      "FLAG_CIRRUS_ON (9996, 14)\n",
      "LUT_AEROSOL_MARITIME (9996, 14)\n",
      "LUT_OZONE_250 (9996, 14)\n",
      "LUT_OZONE_450 (9996, 14)\n",
      "LUT_SEASON_WINTER (9996, 14)\n"
     ]
    }
   ],
   "source": [
    "modifications = ['reference','class_VEGETATION', 'class_NO_DATA', 'class_CLOUD_HIGH_PROBABILITY']\n",
    "modifications += ['FLAG_WV_OFF', 'FLAG_CIRRUS_ON']\n",
    "modifications += ['LUT_AEROSOL_MARITIME', 'LUT_OZONE_250', 'LUT_OZONE_450', 'LUT_SEASON_WINTER']\n",
    "\n",
    "datasets = {}\n",
    "for mod in modifications:\n",
    "    number_of_samples = 10000\n",
    "    ratio = 0.3\n",
    "    dataset = create_dataset(sn7_locations, number_of_samples, ratio, mod)\n",
    "    datasets[mod] = dataset\n",
    "    print(mod, dataset.shape)"
   ]
  },
  {
   "cell_type": "code",
   "execution_count": 15,
   "metadata": {},
   "outputs": [
    {
     "name": "stdout",
     "output_type": "stream",
     "text": [
      "{'C': 100, 'gamma': 'scale', 'kernel': 'rbf'}\n"
     ]
    }
   ],
   "source": [
    "# print info about gridsearch\n",
    "print(grid_search_rbf.best_params_)\n"
   ]
  },
  {
   "cell_type": "code",
   "execution_count": 26,
   "metadata": {},
   "outputs": [
    {
     "name": "stdout",
     "output_type": "stream",
     "text": [
      "reference Mean squared error: 0.20\n",
      "class_VEGETATION Mean squared error: 0.20\n",
      "class_NO_DATA Mean squared error: 0.20\n",
      "class_CLOUD_HIGH_PROBABILITY Mean squared error: 0.22\n",
      "FLAG_WV_OFF Mean squared error: 0.21\n",
      "FLAG_CIRRUS_ON Mean squared error: 0.20\n",
      "LUT_AEROSOL_MARITIME Mean squared error: 0.20\n",
      "LUT_OZONE_250 Mean squared error: 0.21\n",
      "LUT_OZONE_450 Mean squared error: 0.19\n",
      "LUT_SEASON_WINTER Mean squared error: 0.20\n"
     ]
    }
   ],
   "source": [
    "models = {}\n",
    "\n",
    "for mod in modifications:\n",
    "    y = datasets[mod][:,0]\n",
    "    x = datasets[mod][:,1:]\n",
    "    X_train, X_test, y_train, y_test = train_test_split(x, y, test_size=0.2, random_state=42)\n",
    "    model = svm.SVC(C=1000, gamma='scale', kernel='rbf')\n",
    "    model.fit(X_train, y_train)\n",
    "    y_pred = model.predict(X_test)\n",
    "    print(mod, 'Mean squared error: %.2f' % metrics.mean_squared_error(y_test, y_pred))\n",
    "    models[mod] = model"
   ]
  },
  {
   "cell_type": "code",
   "execution_count": 27,
   "metadata": {},
   "outputs": [
    {
     "name": "stdout",
     "output_type": "stream",
     "text": [
      "mod,accuracy,precision,recall,f1-score,MSE\n",
      "reference,0.7965,0.7880184638466373,0.7965,0.7836758289223564,0.2035\n",
      "class_VEGETATION,0.804,0.7967130449887095,0.804,0.7919094197791872,0.196\n",
      "class_NO_DATA,0.7985,0.8001258681945704,0.7985,0.7748664718485665,0.2015\n",
      "class_CLOUD_HIGH_PROBABILITY,0.782,0.7754569192594006,0.782,0.7581161174521355,0.218\n",
      "FLAG_WV_OFF,0.7895,0.7855554533876284,0.7895,0.7665603869524621,0.2105\n",
      "FLAG_CIRRUS_ON,0.7955,0.789320276987348,0.7955,0.777700498008558,0.2045\n",
      "LUT_AEROSOL_MARITIME,0.7985,0.7926185497936242,0.7985,0.7815808559254684,0.2015\n",
      "LUT_OZONE_250,0.79,0.7807095299548638,0.79,0.7753303325342076,0.21\n",
      "LUT_OZONE_450,0.806,0.8004781731474687,0.806,0.7915304329497876,0.194\n",
      "LUT_SEASON_WINTER,0.7985,0.7900366690366961,0.7985,0.787376237344164,0.2015\n"
     ]
    }
   ],
   "source": [
    "print('mod', 'accuracy', 'precision', 'recall', 'f1-score', 'MSE',sep=',')\n",
    "for mod in modifications:\n",
    "    # get accuracy, precision, recall, f1-score\n",
    "    model = models[mod]\n",
    "    y = datasets[mod][:,0]\n",
    "    x = datasets[mod][:,1:]\n",
    "    X_train, X_test, y_train, y_test = train_test_split(x, y, test_size=0.2, random_state=42)\n",
    "    y_pred = model.predict(X_test)\n",
    "    # print(mod, 'Accuracy:', metrics.accuracy_score(y_test, y_pred))\n",
    "    # print(mod, 'Precision:', metrics.precision_score(y_test, y_pred, average='weighted'))\n",
    "    # print(mod, 'Recall:', metrics.recall_score(y_test, y_pred, average='weighted'))\n",
    "    # print(mod, 'F1-score:', metrics.f1_score(y_test, y_pred, average='weighted'))\n",
    "    accuracy = metrics.accuracy_score(y_test, y_pred)\n",
    "    precision = metrics.precision_score(y_test, y_pred, average='weighted')\n",
    "    recall = metrics.recall_score(y_test, y_pred, average='weighted')\n",
    "    f1_score = metrics.f1_score(y_test, y_pred, average='weighted')\n",
    "    mean_squared_error = metrics.mean_squared_error(y_test, y_pred)\n",
    "    print(mod, accuracy, precision, recall, f1_score,mean_squared_error, sep=',')\n",
    "    #print mean squared error\n",
    "    # print('%.2f' % metrics.mean_squared_error(y_test, y_pred))\n",
    "    "
   ]
  },
  {
   "cell_type": "code",
   "execution_count": null,
   "metadata": {},
   "outputs": [],
   "source": []
  }
 ],
 "metadata": {
  "kernelspec": {
   "display_name": "venv",
   "language": "python",
   "name": "python3"
  },
  "language_info": {
   "codemirror_mode": {
    "name": "ipython",
    "version": 3
   },
   "file_extension": ".py",
   "mimetype": "text/x-python",
   "name": "python",
   "nbconvert_exporter": "python",
   "pygments_lexer": "ipython3",
   "version": "3.11.7"
  }
 },
 "nbformat": 4,
 "nbformat_minor": 2
}
