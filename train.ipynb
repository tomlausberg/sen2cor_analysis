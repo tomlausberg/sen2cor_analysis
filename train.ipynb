{
 "cells": [
  {
   "cell_type": "code",
   "execution_count": 1,
   "metadata": {},
   "outputs": [
    {
     "name": "stderr",
     "output_type": "stream",
     "text": [
      "/scratch/toml/semester_thesis/pipeline/venv/lib/python3.10/site-packages/tqdm/auto.py:21: TqdmWarning: IProgress not found. Please update jupyter and ipywidgets. See https://ipywidgets.readthedocs.io/en/stable/user_install.html\n",
      "  from .autonotebook import tqdm as notebook_tqdm\n"
     ]
    }
   ],
   "source": [
    "from sklearn import svm\n",
    "from sklearn import metrics\n",
    "from sklearn.model_selection import train_test_split, GridSearchCV\n",
    "import os\n",
    "import numpy as np\n",
    "import rasterio as rio\n",
    "import matplotlib.pyplot as plt\n",
    "\n",
    "%load_ext autoreload\n",
    "%autoreload 2\n",
    "import building_dection"
   ]
  },
  {
   "cell_type": "code",
   "execution_count": 2,
   "metadata": {},
   "outputs": [],
   "source": [
    "image_names = []\n",
    "label_names = []\n",
    "training_dir = \"/scratch/toml/sn7/train\"\n",
    "for location in os.listdir(training_dir):\n",
    "    label_path = f\"{training_dir}/{location}/global_monthly_2018_01_mosaic_{location}_Buildings_cropped.tif\"\n",
    "    label_names.append(label_path)\n",
    "    # reference TCI image\n",
    "    image_path = f\"{training_dir}/{location}/images/ref/\"\n",
    "    image_names.append(image_path)\n"
   ]
  },
  {
   "cell_type": "code",
   "execution_count": 3,
   "metadata": {},
   "outputs": [
    {
     "data": {
      "text/plain": [
       "['L15-0331E-1257N_1327_3160_13',\n",
       " 'L15-0357E-1223N_1429_3296_13',\n",
       " 'L15-0361E-1300N_1446_2989_13',\n",
       " 'L15-0368E-1245N_1474_3210_13',\n",
       " 'L15-0434E-1218N_1736_3318_13',\n",
       " 'L15-0977E-1187N_3911_3441_13',\n",
       " 'L15-0632E-0892N_2528_4620_13',\n",
       " 'L15-1014E-1375N_4056_2688_13',\n",
       " 'L15-0683E-1006N_2732_4164_13',\n",
       " 'L15-0595E-1278N_2383_3079_13',\n",
       " 'L15-0544E-1228N_2176_3279_13',\n",
       " 'L15-0506E-1204N_2027_3374_13',\n",
       " 'L15-0586E-1127N_2345_3680_13',\n",
       " 'L15-0457E-1135N_1831_3648_13',\n",
       " 'L15-0487E-1246N_1950_3207_13',\n",
       " 'L15-0566E-1185N_2265_3451_13',\n",
       " 'L15-0387E-1276N_1549_3087_13']"
      ]
     },
     "execution_count": 3,
     "metadata": {},
     "output_type": "execute_result"
    }
   ],
   "source": [
    "with rio.open(image_names[1] + \"B01.tif\") as src:\n",
    "        image = src.read(1)\n",
    "x1 = np.asarray([[1,2,3],[4,5,6]])\n",
    "x2 = np.asarray([[7,8,9],[10,11,12]])\n",
    "x = np.concatenate((x1,x2), axis=0)\n",
    "x, x.shape\n",
    "os.listdir(training_dir)"
   ]
  },
  {
   "cell_type": "code",
   "execution_count": 4,
   "metadata": {},
   "outputs": [
    {
     "name": "stdout",
     "output_type": "stream",
     "text": [
      "(119360, 6)\n",
      "(240257, 6)\n",
      "(119360,)\n",
      "(0,)\n",
      "(120897,)\n",
      "(119360,)\n"
     ]
    }
   ],
   "source": [
    "# bands = [\"B01\",\"B02\", \"B03\", \"B04\", \"B05\", \"B06\", \"B07\", \"B09\",\"B11\", \"B12\", \"B8A\", \"SCL\", \"WVP\", \"AOT\"]\n",
    "bands = [\"B02\", \"B03\", \"B04\", \"B08\", \"WVP\", \"AOT\"]\n",
    "number_of_images = 2\n",
    "x = np.zeros((0, len(bands)))\n",
    "for image_name in image_names[4:number_of_images+4]:\n",
    "    x_image = building_dection.convert_band_images_to_ndarray(image_name, bands)\n",
    "    x = np.concatenate((x, x_image), axis=0)\n",
    "    print(x.shape)\n",
    "\n",
    "y = np.zeros((0))\n",
    "for label_name in label_names[4:number_of_images+4]:\n",
    "    with rio.open(label_name) as src:\n",
    "        label = src.read(1)\n",
    "    label = label.flatten().astype(np.uint8)\n",
    "    print(label.shape)\n",
    "    print(y.shape)\n",
    "    y = np.concatenate((y, label), axis=0)"
   ]
  },
  {
   "cell_type": "code",
   "execution_count": 5,
   "metadata": {},
   "outputs": [
    {
     "data": {
      "text/plain": [
       "((240257, 6), (240257,))"
      ]
     },
     "execution_count": 5,
     "metadata": {},
     "output_type": "execute_result"
    }
   ],
   "source": [
    "x.shape, y.shape"
   ]
  },
  {
   "cell_type": "code",
   "execution_count": 6,
   "metadata": {},
   "outputs": [],
   "source": [
    "# # plot image n and label n in subplots\n",
    "# n = 2\n",
    "# fig, ax = plt.subplots(1,2)\n",
    "# ax[0].imshow(images[n])\n",
    "# ax[1].imshow(labels[n])\n",
    "# for i,l in zip(images, labels):\n",
    "#     print(i.shape, l.shape)"
   ]
  },
  {
   "cell_type": "code",
   "execution_count": 7,
   "metadata": {},
   "outputs": [],
   "source": [
    "X_train, X_test, y_train, y_test = train_test_split(x, y, test_size=0.2, random_state=42)"
   ]
  },
  {
   "cell_type": "code",
   "execution_count": 8,
   "metadata": {},
   "outputs": [
    {
     "name": "stdout",
     "output_type": "stream",
     "text": [
      "image_dataset shape: (240257, 6)\n",
      "labels_dataset shape: (240257,)\n",
      "X_train shape: (192205, 6)\n",
      "X_test shape: (48052, 6)\n",
      "y_train shape: (192205,)\n",
      "y_test shape: (48052,)\n"
     ]
    }
   ],
   "source": [
    "# print info about image_dataset, labels_dataset, X_train, X_test, y_train, y_test\n",
    "print(\"image_dataset shape:\", x.shape)\n",
    "print(\"labels_dataset shape:\", y.shape)\n",
    "print(\"X_train shape:\", X_train.shape)\n",
    "print(\"X_test shape:\", X_test.shape)\n",
    "print(\"y_train shape:\", y_train.shape)\n",
    "print(\"y_test shape:\", y_test.shape)\n"
   ]
  },
  {
   "cell_type": "code",
   "execution_count": 28,
   "metadata": {},
   "outputs": [],
   "source": [
    "from sklearn.linear_model import LinearRegression\n",
    "from sklearn import svm\n",
    "from sklearn import metrics\n",
    "\n",
    "\n",
    "model = svm.SVC(kernel='linear') \n",
    "\n",
    "model.fit(X_train, y_train)\n",
    "y_pred = model.predict(X_test)\n",
    "\n",
    "# Print the coefficients\n",
    "print('Coefficients: \\n', model.coef_)\n",
    "\n",
    "# Print the mean squared error\n",
    "print('Mean squared error: %.2f' % metrics.mean_squared_error(y_test, y_pred))\n",
    "\n",
    "\n"
   ]
  },
  {
   "cell_type": "code",
   "execution_count": 11,
   "metadata": {},
   "outputs": [
    {
     "name": "stdout",
     "output_type": "stream",
     "text": [
      "[W] [11:39:57.285426] Random state is currently ignored by probabilistic SVC\n"
     ]
    },
    {
     "ename": "AttributeError",
     "evalue": "coef_",
     "output_type": "error",
     "traceback": [
      "\u001b[0;31m---------------------------------------------------------------------------\u001b[0m",
      "\u001b[0;31mAttributeError\u001b[0m                            Traceback (most recent call last)",
      "\u001b[1;32m/scratch/toml/semester_thesis/pipeline/train.ipynb Cell 10\u001b[0m line \u001b[0;36m9\n\u001b[1;32m      <a href='vscode-notebook-cell://ssh-remote%2Bpf12/scratch/toml/semester_thesis/pipeline/train.ipynb#X23sdnNjb2RlLXJlbW90ZQ%3D%3D?line=5'>6</a>\u001b[0m y_pred \u001b[39m=\u001b[39m model_cu\u001b[39m.\u001b[39mpredict(X_test)\n\u001b[1;32m      <a href='vscode-notebook-cell://ssh-remote%2Bpf12/scratch/toml/semester_thesis/pipeline/train.ipynb#X23sdnNjb2RlLXJlbW90ZQ%3D%3D?line=7'>8</a>\u001b[0m \u001b[39m# Print the coefficients\u001b[39;00m\n\u001b[0;32m----> <a href='vscode-notebook-cell://ssh-remote%2Bpf12/scratch/toml/semester_thesis/pipeline/train.ipynb#X23sdnNjb2RlLXJlbW90ZQ%3D%3D?line=8'>9</a>\u001b[0m \u001b[39mprint\u001b[39m(\u001b[39m'\u001b[39m\u001b[39mCoefficients: \u001b[39m\u001b[39m\\n\u001b[39;00m\u001b[39m'\u001b[39m, model_cu\u001b[39m.\u001b[39;49mcoef_)\n\u001b[1;32m     <a href='vscode-notebook-cell://ssh-remote%2Bpf12/scratch/toml/semester_thesis/pipeline/train.ipynb#X23sdnNjb2RlLXJlbW90ZQ%3D%3D?line=10'>11</a>\u001b[0m \u001b[39m# Print the mean squared error\u001b[39;00m\n\u001b[1;32m     <a href='vscode-notebook-cell://ssh-remote%2Bpf12/scratch/toml/semester_thesis/pipeline/train.ipynb#X23sdnNjb2RlLXJlbW90ZQ%3D%3D?line=11'>12</a>\u001b[0m \u001b[39mprint\u001b[39m(\u001b[39m'\u001b[39m\u001b[39mMean squared error: \u001b[39m\u001b[39m%.2f\u001b[39;00m\u001b[39m'\u001b[39m \u001b[39m%\u001b[39m metrics\u001b[39m.\u001b[39mmean_squared_error(y_test, y_pred))\n",
      "File \u001b[0;32mbase.pyx:324\u001b[0m, in \u001b[0;36mcuml.internals.base.Base.__getattr__\u001b[0;34m()\u001b[0m\n",
      "\u001b[0;31mAttributeError\u001b[0m: coef_"
     ]
    }
   ],
   "source": [
    "from cuml import SVC\n",
    "\n",
    "model_cu = SVC(kernel='rbf', gamma='auto', C=1.0, probability=True, random_state=42) \n",
    "\n",
    "model_cu.fit(X_train, y_train)\n",
    "y_pred = model_cu.predict(X_test)\n",
    "\n",
    "# Print the coefficients\n",
    "# print('Coefficients: \\n', model_cu.coef_)\n",
    "\n",
    "# Print the mean squared error\n",
    "print('Mean squared error: %.2f' % metrics.mean_squared_error(y_test, y_pred))"
   ]
  },
  {
   "cell_type": "code",
   "execution_count": 9,
   "metadata": {},
   "outputs": [
    {
     "name": "stdout",
     "output_type": "stream",
     "text": [
      "Mean squared error: 0.02\n"
     ]
    }
   ],
   "source": [
    "from cuml import LinearSVC\n",
    "\n",
    "model_cu = LinearSVC() \n",
    "\n",
    "model_cu.fit(X_train, y_train)\n",
    "y_pred = model_cu.predict(X_test)\n",
    "\n",
    "# Print the mean squared error\n",
    "print('Mean squared error: %.2f' % metrics.mean_squared_error(y_test, y_pred))"
   ]
  },
  {
   "cell_type": "code",
   "execution_count": null,
   "metadata": {},
   "outputs": [],
   "source": [
    "# model_rbf = svm.SVC(kernel='rbf', gamma=0.1, C=1.0)\n",
    "# model_rbf.fit(X_train, y_train)\n",
    "# y_pred = model_rbf.predict(X_test)\n"
   ]
  },
  {
   "cell_type": "code",
   "execution_count": null,
   "metadata": {},
   "outputs": [],
   "source": [
    "# model_poly = svm.SVC(kernel='poly', degree=3, C=1.0)\n",
    "# model_rbf.fit(X_train, y_train)\n",
    "# y_pred_poly = model_poly.predict(X_test)"
   ]
  },
  {
   "cell_type": "code",
   "execution_count": null,
   "metadata": {},
   "outputs": [
    {
     "ename": "NameError",
     "evalue": "name 'model_rbf' is not defined",
     "output_type": "error",
     "traceback": [
      "\u001b[0;31m---------------------------------------------------------------------------\u001b[0m",
      "\u001b[0;31mNameError\u001b[0m                                 Traceback (most recent call last)",
      "\u001b[1;32m/scratch/toml/semester_thesis/pipeline/train.ipynb Cell 12\u001b[0m line \u001b[0;36m9\n\u001b[1;32m      <a href='vscode-notebook-cell://ssh-remote%2Bpf12/scratch/toml/semester_thesis/pipeline/train.ipynb#X15sdnNjb2RlLXJlbW90ZQ%3D%3D?line=5'>6</a>\u001b[0m label \u001b[39m=\u001b[39m label\u001b[39m.\u001b[39mflatten()\u001b[39m.\u001b[39mastype(np\u001b[39m.\u001b[39muint8)\n\u001b[1;32m      <a href='vscode-notebook-cell://ssh-remote%2Bpf12/scratch/toml/semester_thesis/pipeline/train.ipynb#X15sdnNjb2RlLXJlbW90ZQ%3D%3D?line=7'>8</a>\u001b[0m y_pred \u001b[39m=\u001b[39m model\u001b[39m.\u001b[39mpredict(image_x)\n\u001b[0;32m----> <a href='vscode-notebook-cell://ssh-remote%2Bpf12/scratch/toml/semester_thesis/pipeline/train.ipynb#X15sdnNjb2RlLXJlbW90ZQ%3D%3D?line=8'>9</a>\u001b[0m y_pred_rbf \u001b[39m=\u001b[39m model_rbf\u001b[39m.\u001b[39mpredict(image_x)\n",
      "\u001b[0;31mNameError\u001b[0m: name 'model_rbf' is not defined"
     ]
    }
   ],
   "source": [
    "\n",
    "\n",
    "label_name = label_names[9]\n",
    "image_name = image_names[9]\n",
    "\n",
    "image_x = building_dection.convert_band_images_to_ndarray(image_name, bands)\n",
    "\n",
    "label = label.flatten().astype(np.uint8)\n",
    "\n",
    "y_pred = model.predict(image_x)\n",
    "y_pred_rbf = model_rbf.predict(image_x)\n",
    "\n"
   ]
  },
  {
   "cell_type": "code",
   "execution_count": null,
   "metadata": {},
   "outputs": [],
   "source": [
    "new_label_name = label_name[:-4] + \"_predicted.tif\"\n",
    "\n",
    "building_dection.convert_labels_to_raster_file(y_pred, label_name, new_label_name)"
   ]
  },
  {
   "cell_type": "code",
   "execution_count": null,
   "metadata": {},
   "outputs": [
    {
     "data": {
      "text/plain": [
       "['svm_model.joblib']"
      ]
     },
     "execution_count": 13,
     "metadata": {},
     "output_type": "execute_result"
    }
   ],
   "source": [
    "import joblib\n",
    "\n",
    "joblib.dump(model, 'outputs/svm_model.joblib')\n",
    "joblib.dump(model_rbf, 'outputs/svm_model_rbf.joblib')\n",
    "joblib.dump(model_poly, 'outputs/svm_model_poly.joblib')\n"
   ]
  },
  {
   "cell_type": "code",
   "execution_count": null,
   "metadata": {},
   "outputs": [
    {
     "data": {
      "text/plain": [
       "(array([122393.,  14877.]),\n",
       " array([0. , 0.5, 1. ]),\n",
       " <BarContainer object of 2 artists>)"
      ]
     },
     "execution_count": 16,
     "metadata": {},
     "output_type": "execute_result"
    },
    {
     "data": {
      "image/png": "[encoded data removed]",
      "text/plain": [
       "<Figure size 640x480 with 1 Axes>"
      ]
     },
     "metadata": {},
     "output_type": "display_data"
    }
   ],
   "source": [
    "# plot histogram of y_pred\n",
    "plt.hist(y_pred, bins=2)"
   ]
  },
  {
   "cell_type": "code",
   "execution_count": null,
   "metadata": {},
   "outputs": [],
   "source": []
  }
 ],
 "metadata": {
  "kernelspec": {
   "display_name": "venv",
   "language": "python",
   "name": "python3"
  },
  "language_info": {
   "codemirror_mode": {
    "name": "ipython",
    "version": 3
   },
   "file_extension": ".py",
   "mimetype": "text/x-python",
   "name": "python",
   "nbconvert_exporter": "python",
   "pygments_lexer": "ipython3",
   "version": "3.10.12"
  }
 },
 "nbformat": 4,
 "nbformat_minor": 2
}
